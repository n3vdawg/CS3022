{
 "cells": [
  {
   "cell_type": "markdown",
   "metadata": {},
   "source": [
    "# Tyler Nevell\n",
    "# 101039497 \n",
    "# tyler.nevell@colorado.edu"
   ]
  },
  {
   "cell_type": "markdown",
   "metadata": {},
   "source": [
    "## Calculations"
   ]
  },
  {
   "cell_type": "code",
   "execution_count": 1,
   "metadata": {},
   "outputs": [
    {
     "name": "stdout",
     "output_type": "stream",
     "text": [
      "12.0\n"
     ]
    }
   ],
   "source": [
    "x = 10\n",
    "y = 2.0\n",
    "x\n",
    "print(x +y)"
   ]
  },
  {
   "cell_type": "markdown",
   "metadata": {},
   "source": [
    "## Mathematical Markdown"
   ]
  },
  {
   "cell_type": "markdown",
   "metadata": {},
   "source": [
    "$$ x = \\frac{-b \\pm \\sqrt{b^2 - 4ac}}{2a} $$"
   ]
  },
  {
   "cell_type": "markdown",
   "metadata": {},
   "source": [
    "$\\pm$ and $\\sqrt{}$ sourced from: https://en.wikibooks.org/wiki/LaTeX/Mathematics "
   ]
  },
  {
   "cell_type": "markdown",
   "metadata": {},
   "source": [
    "## Lists"
   ]
  },
  {
   "cell_type": "code",
   "execution_count": 12,
   "metadata": {},
   "outputs": [
    {
     "name": "stdout",
     "output_type": "stream",
     "text": [
      "beginning of lyst [1, 2, 3]\n",
      "end of lyst [4, 5]\n",
      "List l2 is [1, 3, 5, 2, 4]\n",
      "l2 elements squared are [1, 9, 25, 4, 16]\n",
      "The sum of l2 elements is 55\n"
     ]
    }
   ],
   "source": [
    "lyst = [1, 2, 3, 4, 5]\n",
    "print('beginning of lyst', lyst[0:3])\n",
    "print('end of lyst', lyst[3:6])\n",
    "l2 = [1, 3, 5, 2, 4]\n",
    "print('List l2 is', l2)\n",
    "squares = [x**2 for x in l2]\n",
    "print('l2 elements squared are', squares)\n",
    "print('The sum of l2 elements is', sum(squares))"
   ]
  },
  {
   "cell_type": "markdown",
   "metadata": {},
   "source": [
    "## Dictionary"
   ]
  },
  {
   "cell_type": "code",
   "execution_count": 16,
   "metadata": {},
   "outputs": [
    {
     "name": "stdout",
     "output_type": "stream",
     "text": [
      "nicki minaj\n",
      "notebook\n"
     ]
    }
   ],
   "source": [
    "D = { 'anaconda' : 'nicki minaj', 'python' : 'jupyter', 'jupyter' : 'notebook'}\n",
    "print(D['anaconda'])\n",
    "print(D[D['python']])"
   ]
  }
 ],
 "metadata": {
  "kernelspec": {
   "display_name": "Python 3",
   "language": "python",
   "name": "python3"
  },
  "language_info": {
   "codemirror_mode": {
    "name": "ipython",
    "version": 3
   },
   "file_extension": ".py",
   "mimetype": "text/x-python",
   "name": "python",
   "nbconvert_exporter": "python",
   "pygments_lexer": "ipython3",
   "version": "3.6.3"
  }
 },
 "nbformat": 4,
 "nbformat_minor": 2
}
