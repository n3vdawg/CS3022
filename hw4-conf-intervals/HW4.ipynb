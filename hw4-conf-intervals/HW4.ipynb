{
 "cells": [
  {
   "cell_type": "markdown",
   "metadata": {},
   "source": [
    "# CSCI 3022 Homework\n",
    "<figure>\n",
    "  <IMG SRC=\"https://www.colorado.edu/cs/profiles/express/themes/cuspirit/logo.png\" WIDTH=50 ALIGN=\"right\">\n",
    "</figure>\n",
    "\n",
    "Before you turn this problem in, make sure everything runs as expected. First, **restart the kernel** (in the menubar, select Kernel$\\rightarrow$Restart) and then **run all cells** (in the menubar, select Cell$\\rightarrow$Run All).\n",
    "\n",
    "Make sure you fill in any place that says `YOUR CODE HERE` or \"YOUR ANSWER HERE\", as well as your name and collaborators below. "
   ]
  },
  {
   "cell_type": "code",
   "execution_count": 1,
   "metadata": {
    "collapsed": true
   },
   "outputs": [],
   "source": [
    "NAME = \"Tyler Nevell\"\n",
    "COLLABORATORS = \"Stephen Kay, Cody Hegwer\""
   ]
  },
  {
   "cell_type": "markdown",
   "metadata": {},
   "source": [
    "If you referenced any web sites or solutions not of your own creation, list those references here:\n",
    "\n",
    "* List any external references or resources here"
   ]
  },
  {
   "cell_type": "markdown",
   "metadata": {},
   "source": [
    "---"
   ]
  },
  {
   "cell_type": "code",
   "execution_count": 2,
   "metadata": {
    "collapsed": true
   },
   "outputs": [],
   "source": [
    "import pandas as pd\n",
    "import numpy as np\n",
    "import matplotlib.pyplot as plt\n",
    "import scipy\n",
    "from scipy import stats\n",
    "%matplotlib inline"
   ]
  },
  {
   "cell_type": "markdown",
   "metadata": {},
   "source": [
    "# Overview"
   ]
  },
  {
   "cell_type": "markdown",
   "metadata": {},
   "source": [
    "In this homework, you're going to compute confidence intervals for two different datasets using multiple methods. The first data set is quite large, and you should find that the different techniques yield similar answers. The second dataset is much smaller. You will then solve a problem concerning confidence intervals for proportions (*e.g.* polling results)."
   ]
  },
  {
   "cell_type": "markdown",
   "metadata": {},
   "source": [
    "# Problem #1 - Traffic Comparison [50 pts]"
   ]
  },
  {
   "cell_type": "markdown",
   "metadata": {},
   "source": [
    "The British [Luddite](https://en.wikipedia.org/wiki/Luddite) society argues that modern traffic lights cause more accidents than traditional \"give way\" (yield) intersections and that the problem is getting worse over time.\n",
    "\n",
    "Being a smart data scientist, you realize that \"correlation can't prove causation\", but you can at least determine if automatic intersections have more dangerous accidents that traditional intersections. Thinking quickly you [realize that traffic accident data is available](https://www.kaggle.com/daveianhickey/2000-16-traffic-flow-england-scotland-wales) and has been provided to you for the 2005-2007 year spand in the file 'accidents_2005_to_2007.csv'."
   ]
  },
  {
   "cell_type": "code",
   "execution_count": 3,
   "metadata": {
    "collapsed": true,
    "deletable": false,
    "editable": false,
    "nbgrader": {
     "checksum": "4e8e643262a137a0570a8c0465874ba6",
     "grade": false,
     "grade_id": "cell-1564c2981114656f",
     "locked": true,
     "schema_version": 1,
     "solution": false
    }
   },
   "outputs": [],
   "source": [
    "df = pd.read_csv('accidents_2005_to_2007.csv', dtype='unicode')"
   ]
  },
  {
   "cell_type": "markdown",
   "metadata": {},
   "source": [
    "This datafile contains a number of columns [as described here](https://www.kaggle.com/daveianhickey/2000-16-traffic-flow-england-scotland-wales/data). The data has a number of columns of interest. However, becasue the data set is large and somewhat unclean, you'll need to convert columns of interest into the appropriate data types. You should convert the following columns to their appropriate data types:\n",
    "* Number_of_Casualties\n",
    "* Junction_Control\n",
    "* Year\n",
    "\n",
    "Modify the dataframe `df` to have these columns converted to the appropriate types."
   ]
  },
  {
   "cell_type": "code",
   "execution_count": 4,
   "metadata": {
    "collapsed": true,
    "deletable": false,
    "nbgrader": {
     "checksum": "93abc24f281585fa0823e8cab05f275b",
     "grade": true,
     "grade_id": "cell-9883abe795cf7d97",
     "locked": false,
     "points": 3,
     "schema_version": 1,
     "solution": true
    }
   },
   "outputs": [],
   "source": [
    "df.Junction_Control = df.Junction_Control.astype('category')\n",
    "df.Number_of_Casualties = df.Number_of_Casualties.astype('int')\n",
    "df.Year = df.Year.astype('int')"
   ]
  },
  {
   "cell_type": "markdown",
   "metadata": {},
   "source": [
    "The 'Junction_Control' has a single machine-controlled taffic mechanism, 'Automatic traffic signal'. The other methods are all human controlled. Create a new column labeled `machine` that distinguishes the accidents involving automatic traffic light controls from the other accidents (e.g. stop sign, yield, etc)."
   ]
  },
  {
   "cell_type": "code",
   "execution_count": 5,
   "metadata": {
    "collapsed": true,
    "deletable": false,
    "nbgrader": {
     "checksum": "64fb77e103bbcd56ed2e9e16bd709d6a",
     "grade": true,
     "grade_id": "cell-43022efe5d5c2af3",
     "locked": false,
     "points": 2,
     "schema_version": 1,
     "solution": true
    }
   },
   "outputs": [],
   "source": [
    "df['machine'] = df.Junction_Control == 'Automatic traffic signal'"
   ]
  },
  {
   "cell_type": "markdown",
   "metadata": {},
   "source": [
    "## The Luddite Arugment"
   ]
  },
  {
   "cell_type": "markdown",
   "metadata": {},
   "source": [
    "We first show the data group by year and type of intersection or junction control."
   ]
  },
  {
   "cell_type": "code",
   "execution_count": 6,
   "metadata": {
    "scrolled": true
   },
   "outputs": [
    {
     "data": {
      "text/html": [
       "<div>\n",
       "<style>\n",
       "    .dataframe thead tr:only-child th {\n",
       "        text-align: right;\n",
       "    }\n",
       "\n",
       "    .dataframe thead th {\n",
       "        text-align: left;\n",
       "    }\n",
       "\n",
       "    .dataframe tbody tr th {\n",
       "        vertical-align: top;\n",
       "    }\n",
       "</style>\n",
       "<table border=\"1\" class=\"dataframe\">\n",
       "  <thead>\n",
       "    <tr>\n",
       "      <th></th>\n",
       "      <th></th>\n",
       "      <th colspan=\"8\" halign=\"left\">Number_of_Casualties</th>\n",
       "    </tr>\n",
       "    <tr>\n",
       "      <th></th>\n",
       "      <th></th>\n",
       "      <th>count</th>\n",
       "      <th>mean</th>\n",
       "      <th>std</th>\n",
       "      <th>min</th>\n",
       "      <th>25%</th>\n",
       "      <th>50%</th>\n",
       "      <th>75%</th>\n",
       "      <th>max</th>\n",
       "    </tr>\n",
       "    <tr>\n",
       "      <th>machine</th>\n",
       "      <th>Year</th>\n",
       "      <th></th>\n",
       "      <th></th>\n",
       "      <th></th>\n",
       "      <th></th>\n",
       "      <th></th>\n",
       "      <th></th>\n",
       "      <th></th>\n",
       "      <th></th>\n",
       "    </tr>\n",
       "  </thead>\n",
       "  <tbody>\n",
       "    <tr>\n",
       "      <th rowspan=\"3\" valign=\"top\">False</th>\n",
       "      <th>2005</th>\n",
       "      <td>179251.0</td>\n",
       "      <td>1.362185</td>\n",
       "      <td>0.812971</td>\n",
       "      <td>1.0</td>\n",
       "      <td>1.0</td>\n",
       "      <td>1.0</td>\n",
       "      <td>1.0</td>\n",
       "      <td>29.0</td>\n",
       "    </tr>\n",
       "    <tr>\n",
       "      <th>2006</th>\n",
       "      <td>170416.0</td>\n",
       "      <td>1.366028</td>\n",
       "      <td>0.816717</td>\n",
       "      <td>1.0</td>\n",
       "      <td>1.0</td>\n",
       "      <td>1.0</td>\n",
       "      <td>1.0</td>\n",
       "      <td>45.0</td>\n",
       "    </tr>\n",
       "    <tr>\n",
       "      <th>2007</th>\n",
       "      <td>164223.0</td>\n",
       "      <td>1.360260</td>\n",
       "      <td>0.843032</td>\n",
       "      <td>1.0</td>\n",
       "      <td>1.0</td>\n",
       "      <td>1.0</td>\n",
       "      <td>1.0</td>\n",
       "      <td>68.0</td>\n",
       "    </tr>\n",
       "    <tr>\n",
       "      <th rowspan=\"3\" valign=\"top\">True</th>\n",
       "      <th>2005</th>\n",
       "      <td>19484.0</td>\n",
       "      <td>1.377746</td>\n",
       "      <td>0.854917</td>\n",
       "      <td>1.0</td>\n",
       "      <td>1.0</td>\n",
       "      <td>1.0</td>\n",
       "      <td>1.0</td>\n",
       "      <td>35.0</td>\n",
       "    </tr>\n",
       "    <tr>\n",
       "      <th>2006</th>\n",
       "      <td>18745.0</td>\n",
       "      <td>1.366284</td>\n",
       "      <td>0.839979</td>\n",
       "      <td>1.0</td>\n",
       "      <td>1.0</td>\n",
       "      <td>1.0</td>\n",
       "      <td>1.0</td>\n",
       "      <td>41.0</td>\n",
       "    </tr>\n",
       "    <tr>\n",
       "      <th>2007</th>\n",
       "      <td>17892.0</td>\n",
       "      <td>1.363403</td>\n",
       "      <td>0.771508</td>\n",
       "      <td>1.0</td>\n",
       "      <td>1.0</td>\n",
       "      <td>1.0</td>\n",
       "      <td>1.0</td>\n",
       "      <td>13.0</td>\n",
       "    </tr>\n",
       "  </tbody>\n",
       "</table>\n",
       "</div>"
      ],
      "text/plain": [
       "             Number_of_Casualties                                          \\\n",
       "                            count      mean       std  min  25%  50%  75%   \n",
       "machine Year                                                                \n",
       "False   2005             179251.0  1.362185  0.812971  1.0  1.0  1.0  1.0   \n",
       "        2006             170416.0  1.366028  0.816717  1.0  1.0  1.0  1.0   \n",
       "        2007             164223.0  1.360260  0.843032  1.0  1.0  1.0  1.0   \n",
       "True    2005              19484.0  1.377746  0.854917  1.0  1.0  1.0  1.0   \n",
       "        2006              18745.0  1.366284  0.839979  1.0  1.0  1.0  1.0   \n",
       "        2007              17892.0  1.363403  0.771508  1.0  1.0  1.0  1.0   \n",
       "\n",
       "                    \n",
       "               max  \n",
       "machine Year        \n",
       "False   2005  29.0  \n",
       "        2006  45.0  \n",
       "        2007  68.0  \n",
       "True    2005  35.0  \n",
       "        2006  41.0  \n",
       "        2007  13.0  "
      ]
     },
     "execution_count": 6,
     "metadata": {},
     "output_type": "execute_result"
    }
   ],
   "source": [
    "df.groupby(['machine', 'Year']).describe()"
   ]
  },
  {
   "cell_type": "markdown",
   "metadata": {},
   "source": [
    "The Luddite argument is that machine controlled intersections have a higher mean number of casulaties every year. In other words, in 2005, 1.362 is less than 1.377 and so one.\n",
    "\n",
    "You argue that the table provides one estimate of the mean, and we'd really like to have an *interval estimate* -- it may be that some values were not reported, or there was mis-reporting or that values will differ in others years.\n",
    "\n",
    "One way to compare this is to conduct a *hypothesis test*, and we will do that later in the semester. For now, we're going to compare our interval estimates for the mean with machines and without and if they overlap, we'll agree that the machine factor has no impact."
   ]
  },
  {
   "cell_type": "markdown",
   "metadata": {},
   "source": [
    "## Examine accident casualties"
   ]
  },
  {
   "cell_type": "markdown",
   "metadata": {},
   "source": [
    "We are going to compare the number of accident casulaties in our data from machine controlled and non-machine controlled intersections. We'll first examine the data for the non-machine controlled intersections.\n",
    "\n",
    "Create a vector `data_nonm` of the number of casualties for non-machine controlled intersections."
   ]
  },
  {
   "cell_type": "code",
   "execution_count": 7,
   "metadata": {
    "collapsed": true,
    "deletable": false,
    "nbgrader": {
     "checksum": "694c4fd2d9a2e168602b159cb0dc5bbe",
     "grade": true,
     "grade_id": "cell-46f005ea600fd0e4",
     "locked": false,
     "points": 2,
     "schema_version": 1,
     "solution": true
    }
   },
   "outputs": [],
   "source": [
    "data_nonm = df[(df.machine == False)].Number_of_Casualties"
   ]
  },
  {
   "cell_type": "markdown",
   "metadata": {},
   "source": [
    "Print the mean of the casulaties at non-machine intersections."
   ]
  },
  {
   "cell_type": "code",
   "execution_count": 8,
   "metadata": {},
   "outputs": [
    {
     "data": {
      "text/plain": [
       "1.362844188444998"
      ]
     },
     "execution_count": 8,
     "metadata": {},
     "output_type": "execute_result"
    }
   ],
   "source": [
    "np.mean(data_nonm)"
   ]
  },
  {
   "cell_type": "markdown",
   "metadata": {},
   "source": [
    "Prepare a similar set of data for machine controlled intersections called `data_m`."
   ]
  },
  {
   "cell_type": "code",
   "execution_count": 9,
   "metadata": {
    "collapsed": true,
    "deletable": false,
    "nbgrader": {
     "checksum": "086940ad6a4a0adef8b08781cc61e2fc",
     "grade": true,
     "grade_id": "cell-addc212bc2b58693",
     "locked": false,
     "points": 2,
     "schema_version": 1,
     "solution": true
    }
   },
   "outputs": [],
   "source": [
    "data_m = df[(df.machine == True)].Number_of_Casualties\n"
   ]
  },
  {
   "cell_type": "markdown",
   "metadata": {},
   "source": [
    "Print out the mean of that data."
   ]
  },
  {
   "cell_type": "code",
   "execution_count": 10,
   "metadata": {},
   "outputs": [
    {
     "data": {
      "text/plain": [
       "1.3693448085386932"
      ]
     },
     "execution_count": 10,
     "metadata": {},
     "output_type": "execute_result"
    }
   ],
   "source": [
    "np.mean(data_m)"
   ]
  },
  {
   "cell_type": "markdown",
   "metadata": {},
   "source": [
    "Print the difference between in the means of`data_m` and `data_nonm`. It should be small but positive."
   ]
  },
  {
   "cell_type": "code",
   "execution_count": 11,
   "metadata": {},
   "outputs": [
    {
     "data": {
      "text/plain": [
       "0.006500620093695231"
      ]
     },
     "execution_count": 11,
     "metadata": {},
     "output_type": "execute_result"
    }
   ],
   "source": [
    "np.mean(data_m) - np.mean(data_nonm)"
   ]
  },
  {
   "cell_type": "markdown",
   "metadata": {},
   "source": [
    "## A Reality Check"
   ]
  },
  {
   "cell_type": "markdown",
   "metadata": {},
   "source": [
    "The two data sets have very similar means, and the value of the means should indicate that the Luddites have a point. This rocks you to your machine-loving core and you decide to make certain reality is still in your grasp.\n",
    "\n",
    "You decide to first determine that the data for the non-machine casualties is not some how violating Markov's Inequality. That is, you seek to prove:"
   ]
  },
  {
   "cell_type": "code",
   "execution_count": 12,
   "metadata": {},
   "outputs": [
    {
     "name": "stdout",
     "output_type": "stream",
     "text": [
      "P(X > 2* 1.362844188444998 | < 1/2 )\n"
     ]
    }
   ],
   "source": [
    "print('P(X > 2*', np.mean(data_nonm), '| < 1/2 )')"
   ]
  },
  {
   "cell_type": "markdown",
   "metadata": {},
   "source": [
    "Print out the relationship with in the form $P(X > t E[X]) = l $ for $t=2$ and substituting $E[X]$ and $l$ with the values from the data. Then print out True or False if the Markov inequality would be met using an equation involving the values for  $l$ and $t$. In other words, you evaluate an expression involving `data_nonm` and $t$ that yields True or False. You may use intermediate computations if that simplifies your code."
   ]
  },
  {
   "cell_type": "code",
   "execution_count": 13,
   "metadata": {
    "deletable": false,
    "nbgrader": {
     "checksum": "05219d780cb8dfc5fa2c53f7b6305aa3",
     "grade": true,
     "grade_id": "cell-eb7460005d201722",
     "locked": false,
     "points": 3,
     "schema_version": 1,
     "solution": true
    }
   },
   "outputs": [
    {
     "name": "stdout",
     "output_type": "stream",
     "text": [
      "True\n"
     ]
    }
   ],
   "source": [
    "data_nonm_tEX = df[(df.machine == False) & (df.Number_of_Casualties > 2 * (np.mean(data_nonm)))].Number_of_Casualties\n",
    "\n",
    "print(data_nonm_tEX.count()/data_nonm.count() < .5)"
   ]
  },
  {
   "cell_type": "markdown",
   "metadata": {},
   "source": [
    "## Perhaps it's a fluke"
   ]
  },
  {
   "cell_type": "markdown",
   "metadata": {},
   "source": [
    "There's a chance that the difference in the means is a fluke and that the varability of the data changes the conclusion that the machines are killing people. \n",
    "\n",
    "You decide to use Chebeyshev's inequality to determine if $P(|X-E[X]| > \\delta) \\leq 0.05%$ where $\\delta$ is the difference between the mean of `data_m` and `data_nonm_`. In other words, you're trying to determine $P(|X-E[X]| < \\delta) \\geq 0.95$ for the `data_m` data -- that 95% of the `data_m` samples are within $\\delta$ of the sample mean. If that's true, then you believe (perhaps incorrectly) that there's strong evidence that the means are \"statistically identical\".\n",
    "\n",
    "Print out the expression for Chebyshev's inequality, $P(|X-E[X]| < \\delta) = p$, substituting $\\delta$ for the difference of the means and $p$ with the actual probability that the differences are less than $\\delta$. \n",
    "\n",
    "Your output should be formated like `P(|X-E[X]|] <  1.2345 ) = 1.2345` but using the proper bound and actual percentage of the values for which the bound is true.\n",
    "\n",
    "Then, print True or False if Chebyshev's inequality holds given the sample mean and variance, $\\delta$ and $p$. In other words, you shoudl evaluate a conditional expression involving the $p$ computed above, the variance of the data and $\\delta$."
   ]
  },
  {
   "cell_type": "code",
   "execution_count": 14,
   "metadata": {
    "deletable": false,
    "nbgrader": {
     "checksum": "2c96b53f5ad0714b87c908b33a67140c",
     "grade": true,
     "grade_id": "cell-78f57f62bb90e6e5",
     "locked": false,
     "points": 3,
     "schema_version": 1,
     "solution": true
    }
   },
   "outputs": [
    {
     "name": "stdout",
     "output_type": "stream",
     "text": [
      "0.006500620093695231\n",
      "0.996240266567\n",
      "True\n",
      "13893\n",
      "P(|X-E[X]|] <  0.006500620093695231 ) = 16072.182726987692\n"
     ]
    }
   ],
   "source": [
    "delta = np.mean(data_m) - np.mean(data_nonm)\n",
    "print(delta)\n",
    "absval = data_m - np.mean(data_m)\n",
    "comparison = absval > delta\n",
    "prob = np.count_nonzero(comparison)/data_m.count()\n",
    "stddev = np.std(data_m)\n",
    "calced_delta = np.sqrt(stddev**2/0.05)\n",
    "prob2 = np.count_nonzero(np.abs(data_m - np.mean(data_m)) < calced_delta)/data_m.count()\n",
    "print(prob2)\n",
    "p = stddev**2/delta**2\n",
    "print(prob2 <= p)\n",
    "print(np.count_nonzero(comparison))\n",
    "print('P(|X-E[X]|] < ', delta, ') =', p)\n",
    "\n",
    "#data_m.plot.kde()\n"
   ]
  },
  {
   "cell_type": "markdown",
   "metadata": {},
   "source": [
    "## Perhaps it's normal to be doubtful?"
   ]
  },
  {
   "cell_type": "markdown",
   "metadata": {},
   "source": [
    "Things are looking bad for the machine lovers; to date, there's every reason to believe that machines at intersections cause more casualities thatn non-machine methods. The means are similar, but machines have slightly more casulaties. It's not likely that the difference between machines and non-machine casualties is so small that it's insigificant according to Chebyshev's inequality. \n",
    "\n",
    "You recognize that using *confidence intervals* may provide a solution. If the confidence intervals don't overlap, it's clear the means are different; if they do, you're willing to believe they're similar (again, perhaps incorrectly)."
   ]
  },
  {
   "cell_type": "markdown",
   "metadata": {},
   "source": [
    "You recall that the Central Limit Theorem says that as $n \\rightarrow \\infty$, $\\sqrt{n}\\frac{\\bar X_n - \\mu}{\\sigma}$ has a standard normal distribution. This leaves you confused, because when you look at distribution of data using a quantile-quantile plot, the number of casulaties is decidely **not** normal."
   ]
  },
  {
   "cell_type": "code",
   "execution_count": 15,
   "metadata": {
    "scrolled": true
   },
   "outputs": [
    {
     "data": {
      "image/png": "[encoded data removed]",
      "text/plain": [
       "<matplotlib.figure.Figure at 0x1d9cec96d68>"
      ]
     },
     "metadata": {},
     "output_type": "display_data"
    }
   ],
   "source": [
    "stats.probplot(data_m,plot=plt);"
   ]
  },
  {
   "cell_type": "markdown",
   "metadata": {},
   "source": [
    "You consult your guru who points out you've misunderstood the CLT. The CLT says that *samples of the estimate of mean* will be normally distributed."
   ]
  },
  {
   "cell_type": "markdown",
   "metadata": {},
   "source": [
    "Construct `data_m_ests` as 1000 samples of the mean of the `data_m` data using the same procedure we used in class for *bootstrapping* your data. This will involve the `np.random.choice` function. Each estimate of the mean should involve at least 1000 samples."
   ]
  },
  {
   "cell_type": "code",
   "execution_count": 16,
   "metadata": {
    "deletable": false,
    "nbgrader": {
     "checksum": "73070da0f948f4521eff25a3a17e8ae5",
     "grade": true,
     "grade_id": "cell-81f3eb95efa2e5ed",
     "locked": false,
     "points": 3,
     "schema_version": 1,
     "solution": true
    }
   },
   "outputs": [],
   "source": [
    "data_m_ests = ([np.mean(np.random.choice(data_m, data_m.size))for x in range(1000)])"
   ]
  },
  {
   "cell_type": "markdown",
   "metadata": {},
   "source": [
    "We will plot the histogram and the QQplot of the `data_m_ests` data:"
   ]
  },
  {
   "cell_type": "code",
   "execution_count": 17,
   "metadata": {},
   "outputs": [
    {
     "data": {
      "image/png": "[encoded data removed]",
      "text/plain": [
       "<matplotlib.figure.Figure at 0x1d980295588>"
      ]
     },
     "metadata": {},
     "output_type": "display_data"
    }
   ],
   "source": [
    "plt.hist(data_m_ests);"
   ]
  },
  {
   "cell_type": "code",
   "execution_count": 18,
   "metadata": {},
   "outputs": [
    {
     "data": {
      "image/png": "[encoded data removed]",
      "text/plain": [
       "<matplotlib.figure.Figure at 0x1d9802990f0>"
      ]
     },
     "metadata": {},
     "output_type": "display_data"
    }
   ],
   "source": [
    "stats.probplot(data_m_ests,plot=plt);"
   ]
  },
  {
   "cell_type": "markdown",
   "metadata": {},
   "source": [
    "## Compute the confidence interval using the Student-T distribution"
   ]
  },
  {
   "cell_type": "markdown",
   "metadata": {},
   "source": [
    "You recall that it's usually safer to use the Student-T distribution if the underlying dataset is not normal. "
   ]
  },
  {
   "cell_type": "markdown",
   "metadata": {},
   "source": [
    "Using the Student-T distribution, compute the 95% confidence interval for both `data_m` and `data_nonm`. Print out the lower (2.5%), the mean and the upper (97.5%) limits. "
   ]
  },
  {
   "cell_type": "code",
   "execution_count": 19,
   "metadata": {
    "deletable": false,
    "nbgrader": {
     "checksum": "d7eb47d2873d6372223ebb71be7c335a",
     "grade": true,
     "grade_id": "cell-2d829ca1ff8f542c",
     "locked": false,
     "points": 3,
     "schema_version": 1,
     "solution": true
    }
   },
   "outputs": [
    {
     "name": "stdout",
     "output_type": "stream",
     "text": [
      "Machine related deaths has mean 1.3693448085386932 With lower CI 1.36326508793 with upper CI 1.37627670569\n"
     ]
    }
   ],
   "source": [
    "#m_mean = np.mean(data_m)\n",
    "#nonm_mean = np.mean(data_nonm)\n",
    "\n",
    "#tm = scipy.stats.t.ppf(.975, len(speed)-1)\n",
    "#upm = np.mean(data_m) + (speed_se * tm)\n",
    "#lowm = np.mean(data_m) - (speed_se * tm)\n",
    "#t_m = [lowm, speed_m, upm]\n",
    "#t_m\n",
    "\n",
    "data_m_range = np.percentile(data_m_ests, [2.5, 97.5])\n",
    "print('Machine related deaths has mean', np.mean(data_m), 'With lower CI', data_m_range[0], 'with upper CI', data_m_range[1])\n"
   ]
  },
  {
   "cell_type": "code",
   "execution_count": 20,
   "metadata": {
    "deletable": false,
    "nbgrader": {
     "checksum": "0b59409985e9d29293d14cdb698ab1b5",
     "grade": true,
     "grade_id": "cell-54c2cb1e6981e62d",
     "locked": false,
     "points": 2,
     "schema_version": 1,
     "solution": true
    }
   },
   "outputs": [
    {
     "name": "stdout",
     "output_type": "stream",
     "text": [
      "1.36059414466 1.36508221604 1.362844188444998\n"
     ]
    }
   ],
   "source": [
    "data_nonm_ests = ([np.mean(np.random.choice(data_nonm, data_nonm.size))for x in range(1000)])\n",
    "data_nonm_range = np.percentile(data_nonm_ests, [2.5, 97.5])   \n",
    "print(data_nonm_range[0], data_nonm_range[1], np.mean(data_nonm))"
   ]
  },
  {
   "cell_type": "markdown",
   "metadata": {},
   "source": [
    "Do the confidence intervals overlap? I.e. is there an overlap in the range of estimates of $\\bar x_n$?"
   ]
  },
  {
   "cell_type": "markdown",
   "metadata": {
    "deletable": false,
    "nbgrader": {
     "checksum": "7f170e60964f573f6c80d7b28c1ed244",
     "grade": true,
     "grade_id": "cell-4473a13389a97553",
     "locked": false,
     "points": 2,
     "schema_version": 1,
     "solution": true
    }
   },
   "source": [
    "Because they do not overlap, we can be 95% confident that there is a statistical difference between both data sets."
   ]
  },
  {
   "cell_type": "markdown",
   "metadata": {},
   "source": [
    "## Compute the Confidence Interval Using Large Sample Assumption"
   ]
  },
  {
   "cell_type": "markdown",
   "metadata": {},
   "source": [
    "You suddenly realize that you have have a lot of data and it's likely that the large data assumption can hold and you can use the standard normal rather than the Student-T distribution. You decide to do that to see if it changes the outcome."
   ]
  },
  {
   "cell_type": "markdown",
   "metadata": {},
   "source": [
    "Using the standard normal distribution, compute the 95% confidence interval for both `data_m` and `data_nonm`. Print out the lower (2.5%), the mean and the upper (97.5%) limits. "
   ]
  },
  {
   "cell_type": "code",
   "execution_count": 21,
   "metadata": {},
   "outputs": [
    {
     "name": "stdout",
     "output_type": "stream",
     "text": [
      "1         1\n",
      "8         2\n",
      "10        1\n",
      "11        1\n",
      "22        1\n",
      "24        1\n",
      "27        2\n",
      "28        1\n",
      "38        1\n",
      "40        1\n",
      "53        1\n",
      "54        1\n",
      "66        1\n",
      "70        1\n",
      "75        1\n",
      "78        1\n",
      "79        1\n",
      "82        1\n",
      "87        4\n",
      "89        1\n",
      "94        1\n",
      "96        1\n",
      "97        1\n",
      "103       1\n",
      "105       1\n",
      "106       1\n",
      "111       1\n",
      "122       1\n",
      "129       1\n",
      "130       1\n",
      "         ..\n",
      "568957    1\n",
      "568979    1\n",
      "568992    1\n",
      "569009    1\n",
      "569049    1\n",
      "569066    1\n",
      "569067    1\n",
      "569077    2\n",
      "569080    1\n",
      "569102    1\n",
      "569117    2\n",
      "569139    2\n",
      "569167    1\n",
      "569241    1\n",
      "569281    1\n",
      "569293    1\n",
      "569333    1\n",
      "569335    1\n",
      "569342    1\n",
      "569365    2\n",
      "569372    1\n",
      "569378    1\n",
      "569423    2\n",
      "569430    1\n",
      "569499    1\n",
      "569508    2\n",
      "569694    1\n",
      "569720    1\n",
      "569773    1\n",
      "569836    1\n",
      "Name: Number_of_Casualties, Length: 56121, dtype: int32\n"
     ]
    }
   ],
   "source": [
    "print(data_m)"
   ]
  },
  {
   "cell_type": "code",
   "execution_count": 22,
   "metadata": {
    "deletable": false,
    "nbgrader": {
     "checksum": "b484ecbe22805955a93d00894e7781b7",
     "grade": true,
     "grade_id": "cell-bb868f5925041ea0",
     "locked": false,
     "points": 3,
     "schema_version": 1,
     "solution": true
    }
   },
   "outputs": [
    {
     "data": {
      "text/plain": [
       "[1.362526484970221, 1.3693448085386932, 1.3761631321071655]"
      ]
     },
     "execution_count": 22,
     "metadata": {},
     "output_type": "execute_result"
    }
   ],
   "source": [
    "data_m_mean = np.mean(data_m)\n",
    "data_m_se = np.sqrt(np.var(data_m)/len(data_m))\n",
    "\n",
    "Nmm = scipy.stats.norm.ppf(.975)\n",
    "\n",
    "upNmm = data_m_mean + data_m_se * Nmm\n",
    "lowNmm = data_m_mean - data_m_se * Nmm\n",
    "\n",
    "data_m_snd_ci = [lowNmm, data_m_mean, upNmm]\n",
    "data_m_snd_ci\n",
    "\n"
   ]
  },
  {
   "cell_type": "code",
   "execution_count": 23,
   "metadata": {
    "deletable": false,
    "nbgrader": {
     "checksum": "31d0ec658e75bc3fd793636f1abaacbc",
     "grade": true,
     "grade_id": "cell-4e1d852e1ae414f9",
     "locked": false,
     "points": 2,
     "schema_version": 1,
     "solution": true
    }
   },
   "outputs": [
    {
     "data": {
      "text/plain": [
       "[1.3605914962143919, 1.362844188444998, 1.3650968806756041]"
      ]
     },
     "execution_count": 23,
     "metadata": {},
     "output_type": "execute_result"
    }
   ],
   "source": [
    "data_nonm_mean = np.mean(data_nonm)\n",
    "data_nonm_se = np.sqrt(np.var(data_nonm)/len(data_nonm))\n",
    "\n",
    "Nmm = scipy.stats.norm.ppf(.975)\n",
    "\n",
    "nonupNmm = data_nonm_mean + data_nonm_se * Nmm\n",
    "nonlowNmm = data_nonm_mean - data_nonm_se * Nmm\n",
    "\n",
    "data_nonm_snd_ci = [nonlowNmm, data_nonm_mean, nonupNmm]\n",
    "data_nonm_snd_ci\n"
   ]
  },
  {
   "cell_type": "markdown",
   "metadata": {},
   "source": [
    "Does this change the results of your comparisons of the mean?"
   ]
  },
  {
   "cell_type": "markdown",
   "metadata": {
    "deletable": false,
    "nbgrader": {
     "checksum": "84d84a42f84fba83518f66db8414ebcb",
     "grade": true,
     "grade_id": "cell-191e812cedf201dd",
     "locked": false,
     "points": 1,
     "schema_version": 1,
     "solution": true
    }
   },
   "source": [
    "Yes, the differences between the two means overlap."
   ]
  },
  {
   "cell_type": "markdown",
   "metadata": {},
   "source": [
    "## Bootstrap Confidence Intervals"
   ]
  },
  {
   "cell_type": "markdown",
   "metadata": {},
   "source": [
    "Just to leave no stone un-turned, you decide to determine bootstrap confidence intervals to see if they're consistent with the prior confidence intervals.\n",
    "\n",
    "To do this, it will be easiest to write a function `tstar(x,m)` that computes the bootstrap `t*` value for sample `x` and overall mean `m`. By this time in the class, we're going to assume you have learned how to write a simple function.\n",
    "\n",
    "Provide function `t`:"
   ]
  },
  {
   "cell_type": "code",
   "execution_count": 24,
   "metadata": {
    "deletable": false,
    "nbgrader": {
     "checksum": "7eec315f41d155952de3a02b4bfc7612",
     "grade": true,
     "grade_id": "cell-c227a3c5fc9eb3c7",
     "locked": false,
     "points": 2,
     "schema_version": 1,
     "solution": true
    }
   },
   "outputs": [],
   "source": [
    "def tstar(x,m):\n",
    "    t = (np.mean(x) - m)/ np.sqrt(x.var()/len(x))\n",
    "    return t\n"
   ]
  },
  {
   "cell_type": "markdown",
   "metadata": {},
   "source": [
    "Using the bootstrap confidence interval process, compute the 95% confidence interval for both `data_m` and `data_nonm`. Print out the lower (2.5%), the mean and the upper (97.5%) limits. You should also print out the lower and upper estimates $c_l$ and $c_u$ determined by the bootstrap. Use 1000 sample means of 20000 values."
   ]
  },
  {
   "cell_type": "code",
   "execution_count": 25,
   "metadata": {
    "deletable": false,
    "nbgrader": {
     "checksum": "3d750ae422680bdc2b5ffc9b4ca56e35",
     "grade": true,
     "grade_id": "cell-67152c570e6dd605",
     "locked": false,
     "points": 2,
     "schema_version": 1,
     "solution": true
    }
   },
   "outputs": [
    {
     "name": "stdout",
     "output_type": "stream",
     "text": [
      "c_l:  1.36290851476\n",
      "The mean is:  1.3693448085386932\n",
      "c_u:  1.37564241732\n"
     ]
    }
   ],
   "source": [
    "data_m_mean = np.mean(data_m)\n",
    "data_m_boot = np.array([tstar(np.random.choice(data_m, 20000), data_m_mean) for x in range(1000)])\n",
    "\n",
    "low_per = np.percentile(data_m_boot, 2.5)\n",
    "upp_per = np.percentile(data_m_boot, 97.5)\n",
    "\n",
    "c_l = np.sqrt(data_m.var()/data_m.count())*(low_per) + data_m_mean\n",
    "c_u = np.sqrt(data_m.var()/data_m.count())*(upp_per) + data_m_mean\n",
    "\n",
    "print(\"c_l: \", c_l)\n",
    "print(\"The mean is: \", data_m_mean)\n",
    "print(\"c_u: \", c_u)\n",
    "\n",
    "#print(data_m_boot)"
   ]
  },
  {
   "cell_type": "code",
   "execution_count": 26,
   "metadata": {
    "deletable": false,
    "nbgrader": {
     "checksum": "990b7cd9be8ac748e4ca850383ef9428",
     "grade": true,
     "grade_id": "cell-ab18ea4c27c899c0",
     "locked": false,
     "points": 3,
     "schema_version": 1,
     "solution": true
    }
   },
   "outputs": [
    {
     "name": "stdout",
     "output_type": "stream",
     "text": [
      "c_l:  1.36040861107\n",
      "The mean is:  1.362844188444998\n",
      "c_u:  1.3649340843\n"
     ]
    }
   ],
   "source": [
    "data_nonm_mean = np.mean(data_nonm)\n",
    "data_nonm_boot = np.array([tstar(np.random.choice(data_nonm, 20000), data_nonm_mean) for x in range(1000)])\n",
    "\n",
    "low_pernon = np.percentile(data_nonm_boot, 2.5)\n",
    "upp_pernon = np.percentile(data_nonm_boot, 97.5)\n",
    "\n",
    "c_l_non = np.sqrt(data_nonm.var()/data_nonm.count())*(low_pernon) + data_nonm_mean\n",
    "c_u_non = np.sqrt(data_nonm.var()/data_nonm.count())*(upp_pernon) + data_nonm_mean\n",
    "\n",
    "print(\"c_l: \", c_l_non)\n",
    "print(\"The mean is: \", data_nonm_mean)\n",
    "print(\"c_u: \", c_u_non)"
   ]
  },
  {
   "cell_type": "markdown",
   "metadata": {},
   "source": [
    "Are the confidence intervals symmetric? I.e. is $c_l = -c_u$? Also, do your earlier conclusions about the means still hold? Since the bootstrap depends on random samples, you may want to run this a few times befor answering."
   ]
  },
  {
   "cell_type": "markdown",
   "metadata": {
    "deletable": false,
    "nbgrader": {
     "checksum": "b95816babee65cc831bb666521bcb0f5",
     "grade": true,
     "grade_id": "cell-46d4015139840361",
     "locked": false,
     "points": 2,
     "schema_version": 1,
     "solution": true
    }
   },
   "source": [
    "Both the upper and lower confidence interval estimates are not symmetric. Our conclusion about the mean holds because it still falls between both confidence intervals."
   ]
  },
  {
   "cell_type": "markdown",
   "metadata": {},
   "source": [
    "## Can I just bootstrap the data?"
   ]
  },
  {
   "cell_type": "markdown",
   "metadata": {},
   "source": [
    "Since you have a fair amount of data, you decide to settle the issue using an *empirical bootstrap* to estimate the distribution of the mean (*i.e.* not a bootstrap confidence interval).\n",
    "\n",
    "For both `data_m` and `data_nonm`, compute the 95% confidence interval using a boostrap with 20,000 samples repeated 1,000 times.  For each dataset, print out the confidence interval in terms of (lower_bound, mean, upper_bound)."
   ]
  },
  {
   "cell_type": "code",
   "execution_count": 27,
   "metadata": {
    "deletable": false,
    "nbgrader": {
     "checksum": "cc7728deb24f8e8574259d4df3c7816c",
     "grade": true,
     "grade_id": "cell-6b1297b06695d29b",
     "locked": false,
     "points": 3,
     "schema_version": 1,
     "solution": true
    }
   },
   "outputs": [
    {
     "name": "stdout",
     "output_type": "stream",
     "text": [
      "Lower Bound:  1.3592475\n",
      "The mean is:  1.3693448085386932\n",
      "Upper Bound:  1.3806025\n"
     ]
    }
   ],
   "source": [
    "data_m_mean = np.mean(data_m)\n",
    "data_m_emboot = np.array([np.mean(np.random.choice(data_m, 20000) - data_m_mean) for x in range(1000)])\n",
    "\n",
    "low_per_em = np.percentile(data_m_emboot, 2.5)+data_m_mean\n",
    "upp_per_em = np.percentile(data_m_emboot, 97.5)+data_m_mean\n",
    "\n",
    "print(\"Lower Bound: \", low_per_em)\n",
    "print(\"The mean is: \", data_m_mean)\n",
    "print(\"Upper Bound: \", upp_per_em)"
   ]
  },
  {
   "cell_type": "code",
   "execution_count": 28,
   "metadata": {
    "deletable": false,
    "nbgrader": {
     "checksum": "861d55fc7800703ff075de9f9fb6252a",
     "grade": true,
     "grade_id": "cell-896e8c4b28bad3c9",
     "locked": false,
     "points": 2,
     "schema_version": 1,
     "solution": true
    }
   },
   "outputs": [
    {
     "name": "stdout",
     "output_type": "stream",
     "text": [
      "Lower Bound:  1.3515475\n",
      "The mean is:  1.362844188444998\n",
      "Upper Bound:  1.37525375\n"
     ]
    }
   ],
   "source": [
    "data_nonm_mean = np.mean(data_nonm)\n",
    "data_nonm_emboot = np.array([np.mean(np.random.choice(data_nonm, 20000) - data_nonm_mean) for x in range(1000)])\n",
    "\n",
    "low_pernon_em = np.percentile(data_nonm_emboot, 2.5)+data_nonm_mean\n",
    "upp_pernon_em = np.percentile(data_nonm_emboot, 97.5)+data_nonm_mean\n",
    "\n",
    "print(\"Lower Bound: \", low_pernon_em)\n",
    "print(\"The mean is: \", data_nonm_mean)\n",
    "print(\"Upper Bound: \", upp_pernon_em)"
   ]
  },
  {
   "cell_type": "markdown",
   "metadata": {},
   "source": [
    "Do the conclusions change compared to the previous methods?"
   ]
  },
  {
   "cell_type": "markdown",
   "metadata": {
    "deletable": false,
    "nbgrader": {
     "checksum": "e35867f18aef07392527f6733cc1bf73",
     "grade": true,
     "grade_id": "cell-063b52b325bd3189",
     "locked": false,
     "points": 1,
     "schema_version": 1,
     "solution": true
    }
   },
   "source": [
    "Even though we have much wider intervals, we still reach the same conclusion."
   ]
  },
  {
   "cell_type": "markdown",
   "metadata": {},
   "source": [
    "## Comparison"
   ]
  },
  {
   "cell_type": "markdown",
   "metadata": {},
   "source": [
    "In the cell below, you'll find a table into which you should enter your lower mean estimate, mean and upper mean estimate for each of the indicated techniques.\n",
    "\n",
    "Round each result to four siginificant digits."
   ]
  },
  {
   "cell_type": "markdown",
   "metadata": {
    "deletable": false,
    "nbgrader": {
     "checksum": "dee02145b128d3ff06ca8aa60b064711",
     "grade": true,
     "grade_id": "cell-5d4d3053c6843af7",
     "locked": false,
     "points": 0,
     "schema_version": 1,
     "solution": true
    }
   },
   "source": [
    "| Method | Dataset | $c_l$ | $\\bar x_n$ | $c_u$ |\n",
    "| :---:  | :------:|:-----:|:----------:|:----:|\n",
    "| T-dist | m |1.3623|1.3693|1.3761| \n",
    "| T-dist | nonm |1.3606|1.3628|1.3652|\n",
    "| Normal | M |1.3625|1.3693|1.3762|\n",
    "| Normal | nonm |1.3606|1.3628|1.3651|\n",
    "| Boot CI | m |1.3625|1.3693|1.376|\n",
    "| Boot CI | nonm |1.3605|1.3628|1.3649|\n",
    "| Emp. Boot | m |1.3581|1.3693|1.3807|\n",
    "| Emp. Boot | nonm |1.3515|1.3628|1.3742  |\n",
    "\n",
    "\n"
   ]
  },
  {
   "cell_type": "markdown",
   "metadata": {},
   "source": [
    "Examine this table and comment on the relationship between the confidence intervals from the T-distribution and the Normal distribution. Are they similar? Also comment on the relationship between the Normal distribution and the Bootstrap CI. Lastly, comment on the Bootstrap CI and the Empirical Bootstrap estimate; before answering the question, go back to your Empirical Bootstrap and draw much larger samples (e.g. 1000 samples of 200,000 rather than 20,000). "
   ]
  },
  {
   "cell_type": "markdown",
   "metadata": {
    "deletable": false,
    "nbgrader": {
     "checksum": "368c50d2167174154c8fb289bd9a72cb",
     "grade": true,
     "grade_id": "cell-e027c6723a60c432",
     "locked": false,
     "points": 4,
     "schema_version": 1,
     "solution": true
    }
   },
   "source": [
    "T & Normal: Nearly Identical\n",
    "\n",
    "Norm & BootStrap CI: Except for lower limits, they are nearly identical\n",
    "\n",
    "Emp & Bootstrap: Biggest difference, becomes closer the larger the sample, nearly identical with a larger enough number."
   ]
  },
  {
   "cell_type": "markdown",
   "metadata": {},
   "source": [
    "# Problem #2 - Speed of light [25 points]"
   ]
  },
  {
   "cell_type": "markdown",
   "metadata": {},
   "source": [
    "We will now address a smaller problem where we'll see more stark differences between the techniques.\n",
    "\n",
    "We're going to use a reduced version of the the Michelson speed of light data. Because the Michelson data has 100 elements, we would find that the Student-T and Standard Normal distibution would give almost identical results. Although that's not \"big data\", it's useful to understand the difference between the Student-T and normal distribution in practice."
   ]
  },
  {
   "cell_type": "code",
   "execution_count": 29,
   "metadata": {
    "collapsed": true
   },
   "outputs": [],
   "source": [
    "spd = np.array([  850.,   740.,   900.,  1070.,   930.,   850.,   950.,   980.,\n",
    "         980.,   880.,  1000.,   980.,   930.,   650.,   760.,   810.,\n",
    "        1000.,  1000.,   960.,   960.,   960.,   940.,   960.,   940.,\n",
    "         880.,   800.,   850.,   880.,   900.,   840.,   830.,   790.,\n",
    "         810.,   880.,   880.,   830.,   800.,   790.,   760.,   800.,\n",
    "         880.,   880.,   880.,   860.,   720.,   720.,   620.,   860.,\n",
    "         970.,   950.,   880.,   910.,   850.,   870.,   840.,   840.,\n",
    "         850.,   840.,   840.,   840.,   890.,   810.,   810.,   820.,\n",
    "         800.,   770.,   760.,   740.,   750.,   760.,   910.,   920.,\n",
    "         890.,   860.,   880.,   720.,   840.,   850.,   850.,   780.,\n",
    "         890.,   840.,   780.,   810.,   760.,   810.,   790.,   810.,\n",
    "         820.,   850.,   870.,   870.,   810.,   740.,   810.,   940.,\n",
    "         950.,   800.,   810.,   870.]) + 299000"
   ]
  },
  {
   "cell_type": "markdown",
   "metadata": {},
   "source": [
    "This data is approximately normal because the deviation of the values represent measurement error in a constrained environment while measuring the speed of light."
   ]
  },
  {
   "cell_type": "markdown",
   "metadata": {},
   "source": [
    "We're going to select a subset of data values to be dataset. You'll be running this code repeatedly to answer a question below after changing the size of the dataset. I've prepared a random vector of locations using `np.random.choice` that we'll use to extract the data:"
   ]
  },
  {
   "cell_type": "code",
   "execution_count": 30,
   "metadata": {},
   "outputs": [
    {
     "data": {
      "text/plain": [
       "array([12, 11, 55, 48, 94, 98,  2, 53, 42,  1, 69, 31, 39, 26, 69, 68, 33,\n",
       "       12, 50, 80, 11, 86, 67, 72, 17, 33, 22, 19,  7,  4])"
      ]
     },
     "execution_count": 30,
     "metadata": {},
     "output_type": "execute_result"
    }
   ],
   "source": [
    "indicies = np.random.choice(range(100), 30)\n",
    "indicies"
   ]
  },
  {
   "cell_type": "code",
   "execution_count": 31,
   "metadata": {},
   "outputs": [
    {
     "data": {
      "text/plain": [
       "0     299930.0\n",
       "1     299980.0\n",
       "2     299840.0\n",
       "3     299970.0\n",
       "4     299810.0\n",
       "5     299810.0\n",
       "6     299900.0\n",
       "7     299870.0\n",
       "8     299880.0\n",
       "9     299740.0\n",
       "10    299760.0\n",
       "11    299790.0\n",
       "12    299800.0\n",
       "13    299850.0\n",
       "14    299760.0\n",
       "15    299750.0\n",
       "16    299880.0\n",
       "17    299930.0\n",
       "18    299880.0\n",
       "19    299890.0\n",
       "20    299980.0\n",
       "21    299790.0\n",
       "22    299740.0\n",
       "23    299890.0\n",
       "24    300000.0\n",
       "25    299880.0\n",
       "26    299960.0\n",
       "27    299960.0\n",
       "28    299980.0\n",
       "29    299930.0\n",
       "dtype: float64"
      ]
     },
     "execution_count": 31,
     "metadata": {},
     "output_type": "execute_result"
    }
   ],
   "source": [
    "speed = pd.Series( spd[indicies] )\n",
    "speed"
   ]
  },
  {
   "cell_type": "markdown",
   "metadata": {},
   "source": [
    "Now, calculate `speed_x` where x is `m`, `v`, `n` and `se` representing the mean, variance, sample size and *standard error*. The standard error is the quantity $\\sqrt{Var[X]/n} = \\sigma/\\sqrt{n}$, which is used computing confidence intervals using either the T-distribution or the standard normal approximation."
   ]
  },
  {
   "cell_type": "code",
   "execution_count": 32,
   "metadata": {},
   "outputs": [
    {
     "name": "stdout",
     "output_type": "stream",
     "text": [
      "299871.0\n",
      "6362.333333333333\n",
      "30\n",
      "14.5628904335\n"
     ]
    }
   ],
   "source": [
    "speed_m = np.mean(speed)\n",
    "speed_v = np.var(speed)\n",
    "speed_n = len(speed)\n",
    "speed_se = np.sqrt(speed_v / speed_n)\n",
    "print(speed_m)\n",
    "print(speed_v)\n",
    "print(speed_n)\n",
    "print(speed_se)"
   ]
  },
  {
   "cell_type": "markdown",
   "metadata": {},
   "source": [
    "Compute a 3-tuple or 3-list named `t_ci` that contains the lower confidence limit, mean and upper confidence limit using a Student-T distribution for a 95% confidence interval."
   ]
  },
  {
   "cell_type": "code",
   "execution_count": 33,
   "metadata": {
    "deletable": false,
    "nbgrader": {
     "checksum": "ff579748f97fc6895cbdcd7ba1254c47",
     "grade": true,
     "grade_id": "cell-b2dd41a51e252bd6",
     "locked": false,
     "points": 5,
     "schema_version": 1,
     "solution": true
    }
   },
   "outputs": [
    {
     "data": {
      "text/plain": [
       "[299841.21554481029, 299871.0, 299900.78445518971]"
      ]
     },
     "execution_count": 33,
     "metadata": {},
     "output_type": "execute_result"
    }
   ],
   "source": [
    "t = scipy.stats.t.ppf(.975, len(speed)-1)\n",
    "upper_con = speed_m + (speed_se * t)\n",
    "lower_con = speed_m - (speed_se * t)\n",
    "t_ci = [lower_con, speed_m, upper_con]\n",
    "t_ci\n",
    "#t_ci = [np.percentile(speed, 2.5), np.mean(speed), np.percentile(speed, 97.5)]"
   ]
  },
  {
   "cell_type": "markdown",
   "metadata": {},
   "source": [
    "Do the same for a variable named `n_ci` for the confidence interval using the standard normal assumption. Although the data is approximately normally distributed, the standard normal assumption is questionable because the sample size is small (10) and the data deviates a little from normal."
   ]
  },
  {
   "cell_type": "code",
   "execution_count": 34,
   "metadata": {
    "deletable": false,
    "nbgrader": {
     "checksum": "83074debf2f75af22660ed2b4643d858",
     "grade": true,
     "grade_id": "cell-68589eff156b5b80",
     "locked": false,
     "points": 5,
     "schema_version": 1,
     "solution": true
    }
   },
   "outputs": [
    {
     "data": {
      "text/plain": [
       "[299842.45725923957, 299871.0, 299899.54274076043]"
      ]
     },
     "execution_count": 34,
     "metadata": {},
     "output_type": "execute_result"
    }
   ],
   "source": [
    "n = scipy.stats.norm.ppf(.975)\n",
    "upper_conN = speed_m + (speed_se * n)\n",
    "lower_conN = speed_m - (speed_se * n)\n",
    "n_ci = [lower_conN, speed_m, upper_conN]\n",
    "n_ci"
   ]
  },
  {
   "cell_type": "markdown",
   "metadata": {},
   "source": [
    "Now, draw a kernel density estimate (KDE) plot of the data; plot the mean using a verticle redline (using `plt.axvline`) and then the Student-T confidence interval in blue and the standard normal confidence interval in green."
   ]
  },
  {
   "cell_type": "code",
   "execution_count": 35,
   "metadata": {
    "deletable": false,
    "nbgrader": {
     "checksum": "9492dea05b48fa1d93c2d718377d476b",
     "grade": true,
     "grade_id": "cell-19fb09c777125336",
     "locked": false,
     "points": 5,
     "schema_version": 1,
     "solution": true
    }
   },
   "outputs": [
    {
     "data": {
      "text/plain": [
       "<matplotlib.lines.Line2D at 0x1d9813212b0>"
      ]
     },
     "execution_count": 35,
     "metadata": {},
     "output_type": "execute_result"
    },
    {
     "data": {
      "image/png": "[encoded data removed]",
      "text/plain": [
       "<matplotlib.figure.Figure at 0x1d9812e28d0>"
      ]
     },
     "metadata": {},
     "output_type": "display_data"
    }
   ],
   "source": [
    "pd.Series(spd).plot.kde()\n",
    "plt.axvline(t_ci[1], color = 'red')\n",
    "plt.axvline(t_ci[0], color = 'blue')\n",
    "plt.axvline(t_ci[2], color = 'blue')\n",
    "plt.axvline(n_ci[0], color = 'green')\n",
    "plt.axvline(n_ci[2], color = 'green')"
   ]
  },
  {
   "cell_type": "markdown",
   "metadata": {},
   "source": [
    "Run the code repeatedly starting with 10 samples until you find the smallest value where you can no longer distinguish the difference between the Student-T distribution and the standard normal from the plot. Enter that number below."
   ]
  },
  {
   "cell_type": "markdown",
   "metadata": {
    "deletable": false,
    "nbgrader": {
     "checksum": "ddf94534e53531aea9aefb8cc64eb06e",
     "grade": true,
     "grade_id": "cell-d9ced9acd5acd357",
     "locked": false,
     "points": 10,
     "schema_version": 1,
     "solution": true
    }
   },
   "source": [
    "30"
   ]
  },
  {
   "cell_type": "markdown",
   "metadata": {},
   "source": [
    "# Confidence limits of polling data [25 points]"
   ]
  },
  {
   "cell_type": "markdown",
   "metadata": {},
   "source": [
    "*N.B.* Although this problem involves political polling data, I want to assure you that we're just looking for a good dataset for polling."
   ]
  },
  {
   "cell_type": "markdown",
   "metadata": {},
   "source": [
    "The website [538](https://projects.fivethirtyeight.com/trump-approval-ratings/?ex_cid=rrpromo) runs a series of \"weighted\" polls to estimate e.g. the popularity of the current president or other electorial outcomes.\n",
    "\n",
    "They include a number of polls. One of them, the [Feb 25-March 1 2018 IPSO poll](http://polling.reuters.com/#poll/CP3_2/), shows an approval rating of 38.2%, with a reported range of 35.6%-40.9% with a sample size of 1488. This means that $n*\\hat p = 568$ people of 1488 reported approval.\n",
    "\n",
    "There's no mention of how the estimate range 35.6%-40.9% is determined. Let's see if we can reverse engineeer the different methods we've heard about and see which they use."
   ]
  },
  {
   "cell_type": "code",
   "execution_count": 36,
   "metadata": {
    "collapsed": true
   },
   "outputs": [],
   "source": [
    "n = 1488\n",
    "support = 568\n",
    "pest = support/n"
   ]
  },
  {
   "cell_type": "markdown",
   "metadata": {},
   "source": [
    "### Wilson estimate"
   ]
  },
  {
   "cell_type": "markdown",
   "metadata": {},
   "source": [
    "Using the \"Wilson method\" described in the text, report the 95% confidence interval. You can either work out the solution long hand and then enter the calculations below to determine the confidence interval or you [can cheat and use the SymPy package to solve the equations](http://docs.sympy.org/latest/modules/solvers/solvers.html)."
   ]
  },
  {
   "cell_type": "code",
   "execution_count": 37,
   "metadata": {
    "deletable": false,
    "nbgrader": {
     "checksum": "51d47decdcef28834c2e8e7df1e0522e",
     "grade": true,
     "grade_id": "cell-7a2c05096306603e",
     "locked": false,
     "points": 5,
     "schema_version": 1,
     "solution": true
    }
   },
   "outputs": [
    {
     "data": {
      "text/plain": [
       "array([ 0.40667933,  0.35737069])"
      ]
     },
     "execution_count": 37,
     "metadata": {},
     "output_type": "execute_result"
    }
   ],
   "source": [
    "temp = (1.96**2)/1488\n",
    "\n",
    "np.roots([temp+1,-2*pest-temp,pest**2])"
   ]
  },
  {
   "cell_type": "markdown",
   "metadata": {},
   "source": [
    "### Normal approximation with specified $\\hat p$"
   ]
  },
  {
   "cell_type": "markdown",
   "metadata": {},
   "source": [
    "The central limit theorem says that estimates for $S_n = X_1 + \\ldots + X_n$ should follow a standard normal distribution with mean $E[S_n]/n = p$ and variance $Var[S_n] = Var[X]/n$ or $\\sigma = \\frac{\\sqrt{p(1-p)}}{n}$. "
   ]
  },
  {
   "cell_type": "markdown",
   "metadata": {},
   "source": [
    "Perhaps Reuter's uses the specified value of $\\hat p$ in order to determine the variance or standard deviation? Run the numbers to compute the 95% confidence interval using the standard normal approximation."
   ]
  },
  {
   "cell_type": "code",
   "execution_count": 38,
   "metadata": {
    "deletable": false,
    "nbgrader": {
     "checksum": "7f3753f8d55af040037ed5c4ddb8f47f",
     "grade": true,
     "grade_id": "cell-000d03cb89397d6d",
     "locked": false,
     "points": 5,
     "schema_version": 1,
     "solution": true
    }
   },
   "outputs": [
    {
     "data": {
      "text/plain": [
       "[0.38108053275974446, 0.38236032745530929]"
      ]
     },
     "execution_count": 38,
     "metadata": {},
     "output_type": "execute_result"
    }
   ],
   "source": [
    "# your code here\n",
    "n_mean = pest\n",
    "n_std = np.sqrt(pest*(1-pest))/ n\n",
    "n_rv = stats.norm(loc = n_mean, scale = n_std )\n",
    "n_ci = [n_rv.ppf(0.025), n_rv.ppf(0.975)]\n",
    "n_ci"
   ]
  },
  {
   "cell_type": "markdown",
   "metadata": {},
   "source": [
    "### Student-T approximation with specified $\\hat p$"
   ]
  },
  {
   "cell_type": "markdown",
   "metadata": {},
   "source": [
    "Perhaps they're using the Student-T distribution instead of the standard normal despite the large sample size? Give that a try and compute the 95% confidence interval using the student-T distribution."
   ]
  },
  {
   "cell_type": "code",
   "execution_count": 39,
   "metadata": {
    "deletable": false,
    "nbgrader": {
     "checksum": "4f46ef951b21a09c093383a4dc05b31b",
     "grade": true,
     "grade_id": "cell-aae4aa81ce4eab0c",
     "locked": false,
     "points": 5,
     "schema_version": 1,
     "solution": true
    }
   },
   "outputs": [
    {
     "data": {
      "text/plain": [
       "[0.3810800114892352, 0.38236084872581855]"
      ]
     },
     "execution_count": 39,
     "metadata": {},
     "output_type": "execute_result"
    }
   ],
   "source": [
    "t_mean = pest\n",
    "t_std = np.sqrt(pest*(1-pest))/ n\n",
    "t_rv = scipy.stats.t.ppf(.975, n-1 )\n",
    "\n",
    "upt = t_mean + t_std * t_rv\n",
    "lowt = t_mean - t_std * t_rv\n",
    "\n",
    "t_ci = [lowt, upt]\n",
    "t_ci\n",
    "#student_t_approx = np.percentile(pest, [2.5, 97.5])\n",
    "#print(student_t_approx[0], student_t_approx[1])"
   ]
  },
  {
   "cell_type": "markdown",
   "metadata": {},
   "source": [
    "### Worst case variance?"
   ]
  },
  {
   "cell_type": "markdown",
   "metadata": {},
   "source": [
    "As mentioned in lecture, if we don't know the precise value of $\\hat p$, it's difficult to estimate the varince since that depends on $\\hat p$; the Wilson method is precise but annoyingly complex.\n",
    "\n",
    "However, because we know that the variance is maximal at $p=1/2$ we can use that to compute a conservative bound. Use that approximation and the standard normal assumption to compute a bound on the 95% confidence interval."
   ]
  },
  {
   "cell_type": "code",
   "execution_count": 40,
   "metadata": {
    "deletable": false,
    "nbgrader": {
     "checksum": "00bfb131856b2c63b47f68a84135d6f4",
     "grade": true,
     "grade_id": "cell-8532297ffe0b0b87",
     "locked": false,
     "points": 5,
     "schema_version": 1,
     "solution": true
    }
   },
   "outputs": [
    {
     "data": {
      "text/plain": [
       "[0.38108053275974446, 0.38236032745530929]"
      ]
     },
     "execution_count": 40,
     "metadata": {},
     "output_type": "execute_result"
    }
   ],
   "source": [
    "\n",
    "n_std_2 = np.sqrt(.25)/ n\n",
    "n_rv_2 = stats.norm(loc = n_mean, scale = n_std_2 )\n",
    "n_ci_2 = [n_rv.ppf(0.025), n_rv.ppf(0.975)]\n",
    "n_ci_2 "
   ]
  },
  {
   "cell_type": "markdown",
   "metadata": {},
   "source": [
    "### Give it your best guess."
   ]
  },
  {
   "cell_type": "markdown",
   "metadata": {},
   "source": [
    "What method do you think Reuter's used?"
   ]
  },
  {
   "cell_type": "markdown",
   "metadata": {
    "deletable": false,
    "nbgrader": {
     "checksum": "ff8da588e915fa7712714e8d7a2a729a",
     "grade": true,
     "grade_id": "cell-e195eaea201ceb3c",
     "locked": false,
     "points": 5,
     "schema_version": 1,
     "solution": true
    }
   },
   "source": [
    "Used Wilson's Estimate"
   ]
  }
 ],
 "metadata": {
  "kernelspec": {
   "display_name": "Python 3",
   "language": "python",
   "name": "python3"
  },
  "language_info": {
   "codemirror_mode": {
    "name": "ipython",
    "version": 3
   },
   "file_extension": ".py",
   "mimetype": "text/x-python",
   "name": "python",
   "nbconvert_exporter": "python",
   "pygments_lexer": "ipython3",
   "version": "3.6.3"
  }
 },
 "nbformat": 4,
 "nbformat_minor": 2
}
