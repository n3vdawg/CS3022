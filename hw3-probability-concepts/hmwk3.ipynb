{
 "cells": [
  {
   "cell_type": "markdown",
   "metadata": {},
   "source": [
    "# CSCI 3022 Homework\n",
    "<figure>\n",
    "  <IMG SRC=\"https://www.colorado.edu/cs/profiles/express/themes/cuspirit/logo.png\" WIDTH=50 ALIGN=\"right\">\n",
    "</figure>\n",
    "\n",
    "Before you turn this problem in, make sure everything runs as expected. First, **restart the kernel** (in the menubar, select Kernel$\\rightarrow$Restart) and then **run all cells** (in the menubar, select Cell$\\rightarrow$Run All).\n",
    "\n",
    "Make sure you fill in any place that says `YOUR CODE HERE` or \"YOUR ANSWER HERE\", as well as your name and collaborators below. "
   ]
  },
  {
   "cell_type": "code",
   "execution_count": 1,
   "metadata": {
    "collapsed": true
   },
   "outputs": [],
   "source": [
    "NAME = \"Tyler Nevell\"\n",
    "COLLABORATORS = \"Cody Hegwer, Stephen Kay, Kyle Staub\""
   ]
  },
  {
   "cell_type": "markdown",
   "metadata": {},
   "source": [
    "If you referenced any web sites or solutions not of your own creation, list those references here:\n",
    "\n",
    "* List any external references or resources here"
   ]
  },
  {
   "cell_type": "markdown",
   "metadata": {},
   "source": [
    "---"
   ]
  },
  {
   "cell_type": "markdown",
   "metadata": {},
   "source": [
    "# Homework 3"
   ]
  },
  {
   "cell_type": "markdown",
   "metadata": {},
   "source": [
    "In this homework, you'll practice material from the Proability portion of the course, covering\n",
    "* Discrete and continuous random variables\n",
    "* Expectation and vaiance\n",
    "* Joint distributions, covariance and correlation"
   ]
  },
  {
   "cell_type": "code",
   "execution_count": 2,
   "metadata": {
    "collapsed": true
   },
   "outputs": [],
   "source": [
    "%matplotlib inline\n",
    "import pandas as pd\n",
    "import matplotlib.pyplot as plt\n",
    "import numpy as np\n",
    "import scipy\n",
    "import scipy.stats as stats\n",
    "import math"
   ]
  },
  {
   "cell_type": "markdown",
   "metadata": {},
   "source": [
    "## Problem #1 - Errors in Speed of Light Meausrement"
   ]
  },
  {
   "cell_type": "markdown",
   "metadata": {},
   "source": [
    "In this problem, you will model two natural phenomena with probability distributions. In each problem, you will extract parameters from the natural data and construct a random variable based on that data using one of the distributions we've discussed in class. You will then justify why your choice of distribution is appropriate using quantitative and qualitative arguements."
   ]
  },
  {
   "cell_type": "markdown",
   "metadata": {},
   "source": [
    "The following data represents the speed of light as indicated by a series of measurements (this is the same data as in Hmwk #2)"
   ]
  },
  {
   "cell_type": "code",
   "execution_count": 3,
   "metadata": {
    "collapsed": true,
    "deletable": false,
    "editable": false,
    "nbgrader": {
     "checksum": "4cbbdbab6e6a45665f4432e9819259bf",
     "grade": false,
     "grade_id": "cell-c33d7514735df906",
     "locked": true,
     "schema_version": 1,
     "solution": false
    }
   },
   "outputs": [],
   "source": [
    "l_speed = np.array([  850.,   740.,   900.,  1070.,   930.,   850.,   950.,   980.,\n",
    "         980.,   880.,  1000.,   980.,   930.,   650.,   760.,   810.,\n",
    "        1000.,  1000.,   960.,   960.,   960.,   940.,   960.,   940.,\n",
    "         880.,   800.,   850.,   880.,   900.,   840.,   830.,   790.,\n",
    "         810.,   880.,   880.,   830.,   800.,   790.,   760.,   800.,\n",
    "         880.,   880.,   880.,   860.,   720.,   720.,   620.,   860.,\n",
    "         970.,   950.,   880.,   910.,   850.,   870.,   840.,   840.,\n",
    "         850.,   840.,   840.,   840.,   890.,   810.,   810.,   820.,\n",
    "         800.,   770.,   760.,   740.,   750.,   760.,   910.,   920.,\n",
    "         890.,   860.,   880.,   720.,   840.,   850.,   850.,   780.,\n",
    "         890.,   840.,   780.,   810.,   760.,   810.,   790.,   810.,\n",
    "         820.,   850.,   870.,   870.,   810.,   740.,   810.,   940.,\n",
    "         950.,   800.,   810.,   870.])"
   ]
  },
  {
   "cell_type": "markdown",
   "metadata": {},
   "source": [
    "The following histogram shows the distribution of data. We've added the `normed=True` flag in order to show the distribution of the data as a density rather than a count."
   ]
  },
  {
   "cell_type": "code",
   "execution_count": 4,
   "metadata": {
    "deletable": false,
    "editable": false,
    "nbgrader": {
     "checksum": "811b00f5d3f4b34cada22943e55339b6",
     "grade": false,
     "grade_id": "cell-59c09bec14eca5e8",
     "locked": true,
     "schema_version": 1,
     "solution": false
    }
   },
   "outputs": [
    {
     "data": {
      "image/png": "[encoded data removed]",
      "text/plain": [
       "<matplotlib.figure.Figure at 0x2880f354da0>"
      ]
     },
     "metadata": {},
     "output_type": "display_data"
    }
   ],
   "source": [
    "plt.hist(l_speed, normed=True);"
   ]
  },
  {
   "cell_type": "markdown",
   "metadata": {},
   "source": [
    "### (1a) Construct a random variable that models the speed of light\n",
    "\n",
    "Your random variable should be named `l_rv` and should be a \"frozen\" distributions from `stats.scipy`."
   ]
  },
  {
   "cell_type": "code",
   "execution_count": 5,
   "metadata": {
    "deletable": false,
    "nbgrader": {
     "checksum": "818df1d039938b0fa3ab1401f35cc6a4",
     "grade": true,
     "grade_id": "cell-d478aa9e4ccebccb",
     "locked": false,
     "points": 5,
     "schema_version": 1,
     "solution": true
    }
   },
   "outputs": [
    {
     "data": {
      "text/plain": [
       "array([ 879.17558282,  798.33708973,  854.54961868,  767.85839264,\n",
       "        903.06651273])"
      ]
     },
     "execution_count": 5,
     "metadata": {},
     "output_type": "execute_result"
    }
   ],
   "source": [
    "l_rv = stats.norm(loc=852, scale=78.6)\n",
    "l_rv.rvs(size=5)"
   ]
  },
  {
   "cell_type": "markdown",
   "metadata": {
    "deletable": false,
    "editable": false,
    "nbgrader": {
     "checksum": "e5fa769dd7685004f202ed35b5f09c66",
     "grade": false,
     "grade_id": "cell-50533de8fd59e4bd",
     "locked": true,
     "schema_version": 1,
     "solution": false
    }
   },
   "source": [
    "### (1b) Compare the distributions using a Quantile-Quantile or Percentile plot\n",
    "\n",
    "Prepare a QQ-plot (quantile-quantile plot) of the empirical data and your `l_rv` random variate. You should use `np.percentile` to extract the percentile data from your empirical data. You should plot no fewer than 10 points (*e.g.* 0, 0.1, 0.2, .., 0.9, 1.0 - quantiles)"
   ]
  },
  {
   "cell_type": "code",
   "execution_count": 6,
   "metadata": {
    "deletable": false,
    "nbgrader": {
     "checksum": "9f850d705623908935868b13c65cad45",
     "grade": true,
     "grade_id": "cell-89dedb4c3f0aa283",
     "locked": false,
     "points": 5,
     "schema_version": 1,
     "solution": true
    },
    "scrolled": true
   },
   "outputs": [
    {
     "data": {
      "image/png": "[encoded data removed]",
      "text/plain": [
       "<matplotlib.figure.Figure at 0x2881063ae80>"
      ]
     },
     "metadata": {},
     "output_type": "display_data"
    }
   ],
   "source": [
    "x_axis = np.array([0.1,0.2,0.3,0.4,0.5,0.6,0.7,0.8,0.9])\n",
    "\n",
    "l_perc = np.percentile(l_speed, x_axis*100)\n",
    "l_rv_perc = l_rv.ppf(x_axis)\n",
    "\n",
    "plt.plot(x_axis, l_perc);\n",
    "plt.plot(x_axis, l_rv_perc);"
   ]
  },
  {
   "cell_type": "markdown",
   "metadata": {},
   "source": [
    "### (1c) Now, plot the PDF of your RV and overlay the histogram from l_speed\n",
    "\n",
    "You should see the PDF of your distribution closely matching the histogram of the data. You may need to adjust the parameters of your R.V. to match the distribution closely. It may be important to [read the reference pages](https://docs.scipy.org/doc/scipy/reference/stats.html) concerning the probability distribution you believe this to be."
   ]
  },
  {
   "cell_type": "code",
   "execution_count": 7,
   "metadata": {
    "deletable": false,
    "nbgrader": {
     "checksum": "3af7529801d285facedaba28d1eb2aa8",
     "grade": true,
     "grade_id": "cell-d715b61092cff4a5",
     "locked": false,
     "points": 5,
     "schema_version": 1,
     "solution": true
    },
    "scrolled": true
   },
   "outputs": [
    {
     "data": {
      "image/png": "[encoded data removed]",
      "text/plain": [
       "<matplotlib.figure.Figure at 0x28810699b70>"
      ]
     },
     "metadata": {},
     "output_type": "display_data"
    }
   ],
   "source": [
    "plt.hist(l_speed, normed=True);\n",
    "\n",
    "fr_x = np.linspace(l_rv.ppf(0.01), l_rv.ppf(0.99), 100)\n",
    "\n",
    "plt.plot(fr_x, l_rv.pdf(fr_x), 'r-', lw=3);"
   ]
  },
  {
   "cell_type": "markdown",
   "metadata": {},
   "source": [
    "### (1d) Explain why a Q-Q plot *and* a PDF plot are useful\n",
    "\n",
    "In the above process, we asked you to prepare a quantile-quantile plot and a second plot that overlays the empirical data and your estimated distribution of the data.\n",
    "\n",
    "Explain why both are useful and why the second would be necessary to determine if you have the proper distribution even if the QQ-plot indicates you have the correct distribution."
   ]
  },
  {
   "cell_type": "markdown",
   "metadata": {
    "collapsed": true,
    "deletable": false,
    "nbgrader": {
     "checksum": "5351b085465664b37ff717fa6685244d",
     "grade": true,
     "grade_id": "cell-c0a426291af86865",
     "locked": false,
     "points": 10,
     "schema_version": 1,
     "solution": true
    }
   },
   "source": [
    "Our QQ plot is useful so we can have a quick look at the distribution for our dataset and see if it matches our assumptions. Our PDF is just further proof that our data is represented well and that our assumptions have more basis. "
   ]
  },
  {
   "cell_type": "markdown",
   "metadata": {},
   "source": [
    "# Problem 2 - Radioactive decay"
   ]
  },
  {
   "cell_type": "markdown",
   "metadata": {},
   "source": [
    "The following data records radioactive decay. The vector `g_counts` contains counts from a Geiger counter device at the corresponding times indicated by `g_time`."
   ]
  },
  {
   "cell_type": "code",
   "execution_count": 8,
   "metadata": {
    "collapsed": true,
    "deletable": false,
    "editable": false,
    "nbgrader": {
     "checksum": "a08f84e5aa781fd52092de8e4a9f0a84",
     "grade": false,
     "grade_id": "cell-9033bfbe4067671c",
     "locked": true,
     "schema_version": 1,
     "solution": false
    }
   },
   "outputs": [],
   "source": [
    "g_time = np.array([0, 1, 2, 4, 6, 8, 9, 10, 11, 12, 13, 14, 15, 16, 18, 19, 20, 21, 22, 24, 25, 26, 27, 28, 29, 30])\n",
    "g_counts = np.array([126.6, 101.8, 71.6, 101.6, 68.1, 62.9, 45.5, 41.9, 46.3, 34.1, 38.2, 41.7, 24.7, 41.5, 36.6, 19.6,22.8, 29.6, 23.5, 15.3, 13.4, 26.8, 9.8, 18.8, 25.9, 19.3])"
   ]
  },
  {
   "cell_type": "markdown",
   "metadata": {},
   "source": [
    "The following plot shows the decline in geiger counts over time."
   ]
  },
  {
   "cell_type": "code",
   "execution_count": 9,
   "metadata": {},
   "outputs": [
    {
     "data": {
      "image/png": "[encoded data removed]",
      "text/plain": [
       "<matplotlib.figure.Figure at 0x288105caba8>"
      ]
     },
     "metadata": {},
     "output_type": "display_data"
    }
   ],
   "source": [
    "plt.plot(g_time, g_counts);"
   ]
  },
  {
   "cell_type": "markdown",
   "metadata": {},
   "source": [
    "### (2a) - Construct a random variable that models the geiger counts"
   ]
  },
  {
   "cell_type": "markdown",
   "metadata": {},
   "source": [
    "Define a variable `g_rv` that is a \"frozen\" representation of a probability distribution that models `g_counts(time)`. You must choose one of the distributions discussed in the text book and fit the parameter(s) of that distribution to the data."
   ]
  },
  {
   "cell_type": "code",
   "execution_count": 10,
   "metadata": {
    "collapsed": true,
    "deletable": false,
    "nbgrader": {
     "checksum": "d19da05d1babfa51b0c298e4aa9285b5",
     "grade": true,
     "grade_id": "cell-a11975fc724f3f09",
     "locked": false,
     "points": 5,
     "schema_version": 1,
     "solution": true
    }
   },
   "outputs": [],
   "source": [
    "# your code here\n",
    "g_mu = np.mean(g_counts)\n",
    "g_rv = scipy.stats.expon(loc=0, scale=g_mu)"
   ]
  },
  {
   "cell_type": "markdown",
   "metadata": {},
   "source": [
    "### (2b) - Construct a quantile-quantile plot \n",
    "\n",
    "Prepare a QQ-plot (quantile-quantile plot) of the empirical data and your `g_rv` random variate. You should use `np.percentile` to extract the percentile data from your empirical data. You should plot no fewer than 10 points (*e.g.* 0, 0.1, 0.2, .., 0.9, 1.0 - quantiles)"
   ]
  },
  {
   "cell_type": "code",
   "execution_count": 11,
   "metadata": {
    "deletable": false,
    "nbgrader": {
     "checksum": "eefb8730f56306aada9b430b9bf18250",
     "grade": true,
     "grade_id": "cell-cc8b51d933b52c6e",
     "locked": false,
     "points": 5,
     "schema_version": 1,
     "solution": true
    }
   },
   "outputs": [
    {
     "data": {
      "image/png": "[encoded data removed]",
      "text/plain": [
       "<matplotlib.figure.Figure at 0x28810a74390>"
      ]
     },
     "metadata": {},
     "output_type": "display_data"
    }
   ],
   "source": [
    "x_axis2 = np.array([0.1,0.2,0.3,0.4,0.5,0.6,0.7,0.8,0.9])\n",
    "\n",
    "g_perc = np.percentile(g_counts, x_axis2*100)\n",
    "g_rv_perc =g_rv.ppf(x_axis)\n",
    "\n",
    "plt.plot(x_axis2, g_perc);\n",
    "plt.plot(x_axis2, g_rv_perc);"
   ]
  },
  {
   "cell_type": "markdown",
   "metadata": {},
   "source": [
    "### (2c) Now, plot the PDF of your RV and overlay the histogram from g_count\n",
    "\n",
    "You should see the PDF of your distribution closely matching the histogram of the data. You may need to adjust the parameters of your R.V. to match the distribution closely. It may be important to [read the reference pages](https://docs.scipy.org/doc/scipy/reference/stats.html) concerning the probability distribution you believe this to be."
   ]
  },
  {
   "cell_type": "code",
   "execution_count": 12,
   "metadata": {
    "deletable": false,
    "nbgrader": {
     "checksum": "cd2489b4dc0661450b5c57ae5f293e39",
     "grade": true,
     "grade_id": "cell-eb597180fe5c4958",
     "locked": false,
     "points": 5,
     "schema_version": 1,
     "solution": true
    }
   },
   "outputs": [
    {
     "data": {
      "image/png": "[encoded data removed]",
      "text/plain": [
       "<matplotlib.figure.Figure at 0x28810a74b00>"
      ]
     },
     "metadata": {},
     "output_type": "display_data"
    }
   ],
   "source": [
    "# your code here\n",
    "plt.hist(g_counts, normed=True, bins = 8);\n",
    "\n",
    "g_x = np.linspace(g_rv.ppf(0.01), g_rv.ppf(0.99), 100)\n",
    "\n",
    "plt.plot(g_x, g_rv.pdf(g_x), 'r-', lw=3);"
   ]
  },
  {
   "cell_type": "markdown",
   "metadata": {},
   "source": [
    "# Problem #3 - Modeling Digits"
   ]
  },
  {
   "cell_type": "markdown",
   "metadata": {},
   "source": [
    "Let $X =$ the leading digit of a randomly selected number from a large accounting\n",
    "ledger. For example, if we randomly draw the number \\$20,695, then $X = 2.$\n",
    "People who make up numbers to commit accounting fraud tend to give $X$ a\n",
    "(discrete) uniform distribution, i.e., $P(X = x) = \\frac{1}{9}$, for $x \\in \\{1, ..., 9\\}$. However,\n",
    "[Benford's law](https://en.wikipedia.org/wiki/Benford%27s_law)  provides empirical evidence that suggests that _naturally occurring_ numbers (e.g.,\n",
    "numbers in a non-fraudulent accounting ledgers) have leading digits that do not\n",
    "follow a uniform distribution. Instead, they follow a distribution defined by the following probability mass function:\n",
    "\n",
    "$$\n",
    "f(x) = \\log_{10}\\left( \\frac{x+1}{x} \\right) \\quad \\textrm{for } x = 1, 2, \\ldots, 9\n",
    "$$\n",
    "\n",
    "You are given the vector `d_x` below that defines the `x` above."
   ]
  },
  {
   "cell_type": "code",
   "execution_count": 13,
   "metadata": {
    "collapsed": true,
    "deletable": false,
    "editable": false,
    "nbgrader": {
     "checksum": "a040428464f70764e2775f30572ae5c6",
     "grade": false,
     "grade_id": "cell-36cafc4ad89d9637",
     "locked": true,
     "schema_version": 1,
     "solution": false
    }
   },
   "outputs": [],
   "source": [
    "d_x = np.arange(9)+1"
   ]
  },
  {
   "cell_type": "markdown",
   "metadata": {},
   "source": [
    "### (3a) Define a vector `d_y` defining f(x)\n",
    "\n",
    "Define a vector `d_y` that is the output of the function $f(x)$ described above. If different logarithm bases are a distant memory, you may [want to refresh your memory](https://math.stackexchange.com/questions/107574/from-natural-log-to-log-base-10) about base changes."
   ]
  },
  {
   "cell_type": "code",
   "execution_count": 14,
   "metadata": {
    "deletable": false,
    "nbgrader": {
     "checksum": "22b58fe01e3294c92f9d6f0448460998",
     "grade": false,
     "grade_id": "cell-c80c7c007a7c3e3e",
     "locked": false,
     "schema_version": 1,
     "solution": true
    }
   },
   "outputs": [
    {
     "name": "stdout",
     "output_type": "stream",
     "text": [
      "[ 0.30103     0.17609126  0.12493874  0.09691001  0.07918125  0.06694679\n",
      "  0.05799195  0.05115252  0.04575749]\n"
     ]
    }
   ],
   "source": [
    "d_y = scipy.log10(d_x+1) - scipy.log10(d_x)\n",
    "print(d_y)"
   ]
  },
  {
   "cell_type": "code",
   "execution_count": 15,
   "metadata": {
    "collapsed": true,
    "deletable": false,
    "editable": false,
    "nbgrader": {
     "checksum": "8f2a8a089a81a7929911f8c4aefc8619",
     "grade": true,
     "grade_id": "cell-75b90471a6e728d2",
     "locked": true,
     "points": 5,
     "schema_version": 1,
     "solution": false
    }
   },
   "outputs": [],
   "source": [
    "assert len(d_y) == 9"
   ]
  },
  {
   "cell_type": "markdown",
   "metadata": {},
   "source": [
    "### (3b) Probability Distribution\n",
    "\n",
    "Argue that $f(x)$ defines a proper proability distribution. You should ground your argument in the properties of probability distributions mentioned in class and in the textbook."
   ]
  },
  {
   "cell_type": "markdown",
   "metadata": {
    "collapsed": true,
    "deletable": false,
    "nbgrader": {
     "checksum": "8ae112540e84f2af0f27a48bfbe640d9",
     "grade": true,
     "grade_id": "cell-2187031fcc184769",
     "locked": false,
     "points": 5,
     "schema_version": 1,
     "solution": true
    }
   },
   "source": [
    "\n",
    "\n",
    "f(x) demonstrates that a proper probability distribution has probabilities for all possible outcomes within its domain and probalities of 0 everywhere outside its domain. Additionally,the probabilities sum to 1, which indicates all outcomes fall within the function."
   ]
  },
  {
   "cell_type": "markdown",
   "metadata": {},
   "source": [
    "### (3c) Is there tax fraud?\n",
    "\n",
    "\n",
    "The data in `tax_data.txt` contains the taxable income for individuals in 1978. Use Pandas and probability distribution above to determine whether or not the dataset is likely fraudulent.\n",
    "\n",
    "You will need to read in tax data from a text file, [extract the leading digit of each non-zero tax payment](https://www.sitepoint.com/community/t/logarithm-to-get-the-first-digit-of-a-number/206396) and then determine if that data is likely fraudulent.\n",
    "\n",
    "Your first step will be to plot the distribution of digits in the data file *vs.* the theoretical distribution.\n",
    "\n",
    "you will need [convert NumPy data to integers](https://docs.scipy.org/doc/numpy-1.13.0/reference/generated/numpy.ndarray.astype.html) to make this work. The data is a tab-seperated file; we've provided the commands to read in that data and convert it to integers."
   ]
  },
  {
   "cell_type": "code",
   "execution_count": 16,
   "metadata": {
    "deletable": false,
    "editable": false,
    "nbgrader": {
     "checksum": "fb8f76efe5ab8aa3a87bc33462a91bf8",
     "grade": false,
     "grade_id": "cell-c72cd8e03ac2520e",
     "locked": true,
     "schema_version": 1,
     "solution": false
    }
   },
   "outputs": [
    {
     "data": {
      "text/plain": [
       "1    5601\n",
       "2    4977\n",
       "3    5959\n",
       "4    6267\n",
       "5    5221\n",
       "Name: Tax Incomes, dtype: int32"
      ]
     },
     "execution_count": 16,
     "metadata": {},
     "output_type": "execute_result"
    }
   ],
   "source": [
    "d_pd = pd.read_csv('tax_data.txt',sep='\\t')\n",
    "d_taxes = d_pd['Tax Incomes'].astype(int)\n",
    "d_taxes.head()"
   ]
  },
  {
   "cell_type": "code",
   "execution_count": 17,
   "metadata": {
    "deletable": false,
    "nbgrader": {
     "checksum": "6c1fa4005a7dbdc5e96e3c2907d66e02",
     "grade": true,
     "grade_id": "cell-cc4cb067706bd535",
     "locked": false,
     "points": 5,
     "schema_version": 1,
     "solution": true
    }
   },
   "outputs": [
    {
     "data": {
      "image/png": "[encoded data removed]",
      "text/plain": [
       "<matplotlib.figure.Figure at 0x28810aac048>"
      ]
     },
     "metadata": {},
     "output_type": "display_data"
    }
   ],
   "source": [
    "import math\n",
    "def get_first(value):\n",
    "    try:\n",
    "        return (value // 10 ** int(scipy.log10(value)))\n",
    "    except:\n",
    "        return 0\n",
    "    \n",
    "d_taxes['f'] = d_taxes.apply(lambda x: get_first(x))\n",
    "dff = d_taxes['f'].loc[d_taxes['f'] > 0]\n",
    "plt.hist(dff, normed=True);\n",
    "plt.scatter(d_x, d_y, c='r', zorder=2);"
   ]
  },
  {
   "cell_type": "markdown",
   "metadata": {},
   "source": [
    "### (3d) Argue whether fraud is likely or not.\n",
    "\n",
    "Based on your data analysis, indicate if fraud is likely or not."
   ]
  },
  {
   "cell_type": "markdown",
   "metadata": {
    "deletable": false,
    "nbgrader": {
     "checksum": "ce0ebf2e4e5d1e27dc76f833bf1aaae5",
     "grade": true,
     "grade_id": "cell-af5b09debff4eda1",
     "locked": false,
     "points": 5,
     "schema_version": 1,
     "solution": true
    }
   },
   "source": [
    "Because it follows the pattern of a PDF it is most likely not fraud. If it it followed a uniform distribution, we could infer that it may be fraud."
   ]
  },
  {
   "cell_type": "markdown",
   "metadata": {},
   "source": [
    "# Problem #4 - Joint Random Variables"
   ]
  },
  {
   "cell_type": "markdown",
   "metadata": {},
   "source": [
    "In this problem we will construction a *joint distribution* from the titantic data that attempts to capture the probability of survival as functions of the passenger class and sex of the passengers."
   ]
  },
  {
   "cell_type": "code",
   "execution_count": 18,
   "metadata": {},
   "outputs": [],
   "source": [
    "ti = pd.read_csv('https://raw.githubusercontent.com/jorisvandenbossche/pandas-tutorial/master/data/titanic.csv')"
   ]
  },
  {
   "cell_type": "markdown",
   "metadata": {},
   "source": [
    "## (4a)\n",
    "\n",
    "You should produce a Pandas DataFrame named `ti_jrv` (\"titanic joint randon variable) similar to the fragment shown below:\n",
    "\n",
    "| Index\t| Pclass |\tSex\t| Prob |\n",
    "|---------------------------- |\n",
    "|0 |\t1 |\t1\t| 0.131579 |\n",
    "|1 |\t2 |\t2\t| 0.204678 |\n",
    "\n",
    "Your table should include the product of passenger class (1,2,3) and Sex (1, 2). The rows can be in any order.\n",
    "\n",
    "The first row in this example can be interpreted that 13.15% of the male passengers in first class survived while 20.5% of the female passengers in second class survived. \n",
    "\n",
    "Your table will contain a total of 6 rows. You can either construct the table in columns and then create the DataFrame or create an empty DataFrame and then [add rows to the frame](https://stackoverflow.com/questions/17091769/python-pandas-fill-a-dataframe-row-by-row) using `loc` or a method of your choosing."
   ]
  },
  {
   "cell_type": "code",
   "execution_count": 19,
   "metadata": {
    "deletable": false,
    "nbgrader": {
     "checksum": "107e5033c74390567ee7fc6044ba9cd0",
     "grade": true,
     "grade_id": "cell-c1b1dc5c0894422d",
     "locked": false,
     "points": 5,
     "schema_version": 1,
     "solution": true
    }
   },
   "outputs": [
    {
     "name": "stdout",
     "output_type": "stream",
     "text": [
      "   Pclass  Sex      Prob\n",
      "0     1.0  1.0  0.131579\n",
      "1     2.0  1.0  0.049708\n",
      "2     3.0  1.0  0.137427\n",
      "3     1.0  2.0  0.266082\n",
      "4     2.0  2.0  0.204678\n",
      "5     3.0  2.0  0.210526\n"
     ]
    }
   ],
   "source": [
    "ti_jrv = pd.DataFrame(columns = ['Pclass', 'Sex', 'Prob'])\n",
    "\n",
    "ti_tot_surv = ti.Survived.sum()\n",
    "\n",
    "ti_jrv.loc[0] = [1,1,ti [ (ti.Sex == \"male\")&(ti.Pclass == 1) ].Survived.sum()/ti_tot_surv]\n",
    "ti_jrv.loc[1] = [2,1,ti [ (ti.Sex == \"male\")&(ti.Pclass == 2) ].Survived.sum()/ti_tot_surv]\n",
    "ti_jrv.loc[2] = [3,1,ti [ (ti.Sex == \"male\")&(ti.Pclass == 3) ].Survived.sum()/ti_tot_surv]\n",
    "\n",
    "ti_jrv.loc[3] = [1,2,ti [ (ti.Sex == \"female\")&(ti.Pclass == 1) ].Survived.sum()/ti_tot_surv]\n",
    "ti_jrv.loc[4] = [2,2,ti [ (ti.Sex == \"female\")&(ti.Pclass == 2) ].Survived.sum()/ti_tot_surv]\n",
    "ti_jrv.loc[5] = [3,2,ti [ (ti.Sex == \"female\")&(ti.Pclass == 3) ].Survived.sum()/ti_tot_surv]\n",
    "\n",
    "print(ti_jrv)"
   ]
  },
  {
   "cell_type": "markdown",
   "metadata": {},
   "source": [
    "### (4b) Argue that this is isn't a valid probability distribution\n",
    "\n",
    "Argue that this is or isn't a valid probability distribution over the product space of `Pclass * Sex`."
   ]
  },
  {
   "cell_type": "markdown",
   "metadata": {
    "collapsed": true,
    "deletable": false,
    "nbgrader": {
     "checksum": "8efb66e94bea12f1c2581f8fd13bae8c",
     "grade": true,
     "grade_id": "cell-e7941dde2c3c3099",
     "locked": false,
     "points": 5,
     "schema_version": 1,
     "solution": true
    }
   },
   "source": [
    "Because all the probabilities sum to 1 or more, we can infer that this is a valid probability distribution. "
   ]
  },
  {
   "cell_type": "markdown",
   "metadata": {},
   "source": [
    "### (4c)  \"Marginalize\" the probability distribution to compute the survival probability by Sex alone\n",
    "\n",
    "Using the definition of marginalization, indicate the probability distribution of survival by Sex alone. \n",
    "\n",
    "You should assign your results to the variable `ti_sx` and print out your results."
   ]
  },
  {
   "cell_type": "code",
   "execution_count": 20,
   "metadata": {
    "deletable": false,
    "nbgrader": {
     "checksum": "26f937d30345952aa95881f92d744573",
     "grade": true,
     "grade_id": "cell-3f837285f04107d3",
     "locked": false,
     "points": 2,
     "schema_version": 1,
     "solution": true
    }
   },
   "outputs": [
    {
     "name": "stdout",
     "output_type": "stream",
     "text": [
      "Sex\n",
      "1.0    0.318713\n",
      "2.0    0.681287\n",
      "Name: Prob, dtype: float64\n"
     ]
    }
   ],
   "source": [
    "ti_sx = ti_jrv.groupby(['Sex']).Prob.sum()\n",
    "\n",
    "#ti_sx = np.array([])\n",
    "#ti_sx.appen\n",
    "\n",
    "print(ti_sx)"
   ]
  },
  {
   "cell_type": "markdown",
   "metadata": {},
   "source": [
    "### (4d) Computed the expectation of the survival over the the Sex R.V.\n",
    "\n",
    "Assign your answer to the variable `ti_sx_e`"
   ]
  },
  {
   "cell_type": "code",
   "execution_count": 21,
   "metadata": {
    "deletable": false,
    "nbgrader": {
     "checksum": "9320cb6fea27658d48dd395e0fc7040c",
     "grade": true,
     "grade_id": "cell-c4b9ead756572744",
     "locked": false,
     "points": 3,
     "schema_version": 1,
     "solution": true
    }
   },
   "outputs": [
    {
     "name": "stdout",
     "output_type": "stream",
     "text": [
      "1.6812865497076024\n"
     ]
    }
   ],
   "source": [
    "#ti_sx_e = 0\n",
    "#for i in range(2):\n",
    "    #ti_sx_e = ti_sx_e + ti_sx.loc(['Sex'])[i] * ti_sx.loc(['Prob'])[i]\n",
    "\n",
    "ti_sx_e = np.sum(ti_sx * np.array([1,2]))\n",
    "\n",
    "print(ti_sx_e)"
   ]
  },
  {
   "cell_type": "markdown",
   "metadata": {},
   "source": [
    "### (4e) Marganlize the probability to compute survival probability for Pclass alone\n",
    "\n",
    "Using the definition of marginalization, indicate the probability distribution of survival by Pclass alone. \n",
    "\n",
    "You should assign your results to the variable `ti_cl` and print out your results."
   ]
  },
  {
   "cell_type": "code",
   "execution_count": 22,
   "metadata": {
    "deletable": false,
    "nbgrader": {
     "checksum": "3b16d3cf38b969c578f722dd45a460aa",
     "grade": true,
     "grade_id": "cell-d00ca1adfe7a3ccb",
     "locked": false,
     "points": 2,
     "schema_version": 1,
     "solution": true
    }
   },
   "outputs": [
    {
     "name": "stdout",
     "output_type": "stream",
     "text": [
      "Pclass\n",
      "1.0    0.397661\n",
      "2.0    0.254386\n",
      "3.0    0.347953\n",
      "Name: Prob, dtype: float64\n"
     ]
    }
   ],
   "source": [
    "ti_cl = ti_jrv.groupby(['Pclass']).Prob.sum()\n",
    "print(ti_cl)"
   ]
  },
  {
   "cell_type": "markdown",
   "metadata": {},
   "source": [
    "### (4f) Compute the expectation of survival over the Pclass R.V.\n",
    "\n",
    "Assign your answer to the variable `ti_cl_e`"
   ]
  },
  {
   "cell_type": "code",
   "execution_count": 23,
   "metadata": {
    "deletable": false,
    "nbgrader": {
     "checksum": "1d09a62340050307589ef407952cc801",
     "grade": true,
     "grade_id": "cell-d90bf4e220f17a5b",
     "locked": false,
     "points": 3,
     "schema_version": 1,
     "solution": true
    }
   },
   "outputs": [
    {
     "name": "stdout",
     "output_type": "stream",
     "text": [
      "1.9502923976608186\n"
     ]
    }
   ],
   "source": [
    "ti_cl_e = np.sum(ti_cl * np.array([1,2,3]))\n",
    "print(ti_cl_e)"
   ]
  },
  {
   "cell_type": "markdown",
   "metadata": {},
   "source": [
    "### (4g) Compute the joint expectation of survival E[Sex Pclass]\n",
    "\n",
    "Assign your answer to the variable `ti_jrv_e`"
   ]
  },
  {
   "cell_type": "code",
   "execution_count": 24,
   "metadata": {
    "deletable": false,
    "nbgrader": {
     "checksum": "dd2a84c66ef59679a79f879f19c61f39",
     "grade": true,
     "grade_id": "cell-4fec704de8b69159",
     "locked": false,
     "points": 5,
     "schema_version": 1,
     "solution": true
    }
   },
   "outputs": [
    {
     "name": "stdout",
     "output_type": "stream",
     "text": [
      "3.257309941520468\n"
     ]
    }
   ],
   "source": [
    "ti_jrv_e = np.sum(ti_jrv.Prob * ti_jrv.Sex * ti_jrv.Pclass)\n",
    "print(ti_jrv_e)"
   ]
  },
  {
   "cell_type": "markdown",
   "metadata": {},
   "source": [
    "### (4h) Compute the Covariance\n",
    "\n",
    "Compute the covariance of the Sex Pclass joint distribution. Assign the value to `ti_jrv_cov` and print out the value. You can use any method discussed in Chapter 10.2 to compute the covariance although some will be easier than others."
   ]
  },
  {
   "cell_type": "code",
   "execution_count": 25,
   "metadata": {
    "deletable": false,
    "nbgrader": {
     "checksum": "2480f38b5c77c1be3396a2e51b3027f8",
     "grade": true,
     "grade_id": "cell-e9afedfec96ad392",
     "locked": false,
     "points": 5,
     "schema_version": 1,
     "solution": true
    }
   },
   "outputs": [
    {
     "name": "stdout",
     "output_type": "stream",
     "text": [
      "-0.0216904346637\n"
     ]
    }
   ],
   "source": [
    "ti_jrv_cov = np.sum(ti_jrv_e - (ti_cl_e * ti_sx_e))\n",
    "print(ti_jrv_cov)"
   ]
  },
  {
   "cell_type": "markdown",
   "metadata": {},
   "source": [
    "### (4i) Argue that R.V.'s Sex and PClass are or are not independent. \n",
    "\n",
    "Based on the computations above, argue in words why you do or do not believe that the surival rate distributed by Sex and PClass are independent. Use quantitative arguments if possible."
   ]
  },
  {
   "cell_type": "markdown",
   "metadata": {
    "collapsed": true
   },
   "source": [
    "Since Covariance is so close to 0, it is most likely the case that these variables are independent."
   ]
  },
  {
   "cell_type": "markdown",
   "metadata": {},
   "source": [
    "### (4j) Calculate the correlation coefficient of the Sex and PClass variables.\n",
    "\n",
    "You should assign the final value to variable `ti_jrv_cor`"
   ]
  },
  {
   "cell_type": "code",
   "execution_count": 26,
   "metadata": {
    "deletable": false,
    "nbgrader": {
     "checksum": "9614fc5d30e1de7218196e6f03df879b",
     "grade": true,
     "grade_id": "cell-c67c16670fbc7897",
     "locked": false,
     "points": 5,
     "schema_version": 1,
     "solution": true
    }
   },
   "outputs": [
    {
     "name": "stdout",
     "output_type": "stream",
     "text": [
      "-0.00672641073608\n"
     ]
    }
   ],
   "source": [
    "ti_sx_var = np.sum(((ti_sx * np.array([1,2])) - ti_sx_e)**2)\n",
    "\n",
    "ti_cl_var = np.sum(((ti_cl * np.array([1,2,3])) - ti_cl_e)**2)\n",
    "\n",
    "ti_jrv_cor = ti_jrv_cov / np.sqrt(ti_sx_var*ti_cl_var)\n",
    "print(ti_jrv_cor)"
   ]
  },
  {
   "cell_type": "markdown",
   "metadata": {},
   "source": [
    "### (4k) Are the survival probabilities between Sex and PClass correlated?\n",
    "\n",
    "Use the data from the joint probability distribution to argue why your correlation coefficient makes sense. You can also use the probability distribution of the marginal R.V.'s (i.e. just Sex or just PClass) to motivate your argument, but you must eventually explain why the *joint* distribution has the correlation coefficient you've calculated."
   ]
  },
  {
   "cell_type": "markdown",
   "metadata": {
    "deletable": false,
    "nbgrader": {
     "checksum": "b7848aef4a37a53046bdaf1fe408d073",
     "grade": true,
     "grade_id": "cell-70c3f2b789f37af9",
     "locked": false,
     "points": 5,
     "schema_version": 1,
     "solution": true
    }
   },
   "source": [
    "Because we have a very small correlation co-efficient that is really close to 0, we can infer that there is likely no correlation between Sex and Pclass for survival probability. "
   ]
  },
  {
   "cell_type": "code",
   "execution_count": null,
   "metadata": {
    "collapsed": true
   },
   "outputs": [],
   "source": []
  }
 ],
 "metadata": {
  "kernelspec": {
   "display_name": "Python 3",
   "language": "python",
   "name": "python3"
  },
  "language_info": {
   "codemirror_mode": {
    "name": "ipython",
    "version": 3
   },
   "file_extension": ".py",
   "mimetype": "text/x-python",
   "name": "python",
   "nbconvert_exporter": "python",
   "pygments_lexer": "ipython3",
   "version": "3.6.3"
  }
 },
 "nbformat": 4,
 "nbformat_minor": 2
}
